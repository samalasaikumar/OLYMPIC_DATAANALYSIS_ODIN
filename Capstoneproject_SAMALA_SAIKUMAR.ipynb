{
 "cells": [
  {
   "cell_type": "markdown",
   "id": "8327efe0",
   "metadata": {},
   "source": [
    "# <center> **Capstone Project - Part 2** </center>\n",
    "\n",
    "## <center> **Python** </center>\n",
    "\n",
    "***\n",
    "\n",
    "## **Olympics Dataset Analysis using Python**\n",
    "\n",
    "\n",
    "### Introduction\n",
    "\n",
    "As we know, The Olympic Games are considered as the world's foremost,largest and ancient sports competition in which sportspersons from all over the world do particiapte and strive hard to create a footprints in the Olympic Games. Presently more than 200 countries participate in this competition. The Olympic Games are normally held every four years. \n",
    "\n",
    "In our Olympics dataset we are provided with the names of participants, their country name, year and date of particiaption in Olympics, which sport they participated, Olympic Medals they have won to make their country proud. The given data set only includes the particiapnt who have won atleast one medal in any sport in the year 2000 to 2012. We will use python to perform our analysis. The column names of the dataset are self explanatory in order to provide information. \n",
    "\n",
    "![download.png](https://thebridge.in/h-upload/2021/03/30/1395-olympicringstmciocallrightsreserved1986.webp)\n",
    "\n",
    "### Objectives of the Project\n",
    "\n",
    "We will analyze our dataset using following problem statement.\n",
    "\n",
    "• The basic exploration of the dataframe using libraries pandas and numpy.\n",
    "\n",
    "• To deal with missing values appropriately.\n",
    "\n",
    "• Handling the duplicate values present and to take appropriate steps as it introduces bias in the study.\n",
    "\n",
    "• Removing special characters from the name column.\n",
    "\n",
    "• To perform data visualization techniques to appropriate columns and explain them\n",
    "\n",
    "• To check if the age dataset is skewed or symmetric. Based on the results perform transformation.\n",
    "\n",
    "• To perform appropriate numerical measures on each column and report them accordingly.\n",
    "\n",
    "• To list the top 10 countries with the gold medal, then the top10 countries with the silver medal, bronze medal and the total medal.\n",
    "\n"
   ]
  },
  {
   "cell_type": "markdown",
   "id": "a8b2aa78",
   "metadata": {},
   "source": [
    "\n",
    "\n",
    "### Variables present in the dataset\n",
    "\n",
    "There are follwing variables i.e. columns are present in our dataset: \n",
    "\n",
    "• name - It is the name of the participant/sportsperson particiapted in Olympic Games\n",
    "\n",
    "• age - This indicates the participant's age on the date of participation.\n",
    "\n",
    "• country - The Country name which to which the participant belongs.\n",
    "\n",
    "• year - The year of particiaption in the Olympic Games.\n",
    "\n",
    "• Date_Given - Date of participation.\n",
    "\n",
    "• sports - It is the sport in which sportsman has participated.\n",
    "\n",
    "• gold_medal - The number of Gold medals won by participant.\n",
    "\n",
    "• silver_medal - The number of Silver medals won by participant.\n",
    "\n",
    "• brone_medal - The number of Bronze medals won by participant.\n",
    "\n",
    "• total_medal - It is the sum of total medals won by participant.\n",
    "\n",
    "\n",
    "### Importing necessary libraries\n",
    "\n",
    "We will import the required libraries such as pandas, numpy, seaborn, matplotlib. \n",
    "\n",
    "Pandas will help in data analysis and manipulation, while numpy works with the arrays use for scientific computing. It provides a high-performance multidimensional array object, and tools. \n",
    "Seaborn and matplotlib will help in data visalization. they will help in ploting statistical graphics in Python."
   ]
  },
  {
   "cell_type": "code",
   "execution_count": 73,
   "id": "b6eed1e1",
   "metadata": {},
   "outputs": [],
   "source": [
    "import numpy as np                              #importing numpy as np\n",
    "import pandas as pd                             #importing pandas as pd\n",
    "import seaborn as sns                           #importing seaborn as sns\n",
    "import matplotlib.pyplot as plt                 #importing matplotlib as plt"
   ]
  },
  {
   "cell_type": "markdown",
   "id": "3dac0eda",
   "metadata": {},
   "source": [
    "### To read csv dataset\n",
    "\n",
    "We have to import our data into the jupyter noterbook in order to analyze. We will use pandas to read csv file and to store it in a dataframe as follws:"
   ]
  },
  {
   "cell_type": "code",
   "execution_count": 74,
   "id": "6df32bb5",
   "metadata": {},
   "outputs": [
    {
     "data": {
      "text/html": [
       "<div>\n",
       "<style scoped>\n",
       "    .dataframe tbody tr th:only-of-type {\n",
       "        vertical-align: middle;\n",
       "    }\n",
       "\n",
       "    .dataframe tbody tr th {\n",
       "        vertical-align: top;\n",
       "    }\n",
       "\n",
       "    .dataframe thead th {\n",
       "        text-align: right;\n",
       "    }\n",
       "</style>\n",
       "<table border=\"1\" class=\"dataframe\">\n",
       "  <thead>\n",
       "    <tr style=\"text-align: right;\">\n",
       "      <th></th>\n",
       "      <th>name</th>\n",
       "      <th>age</th>\n",
       "      <th>country</th>\n",
       "      <th>year</th>\n",
       "      <th>Date_Given</th>\n",
       "      <th>sports</th>\n",
       "      <th>gold_medal</th>\n",
       "      <th>silver_medal</th>\n",
       "      <th>brone_medal</th>\n",
       "      <th>total_medal</th>\n",
       "    </tr>\n",
       "  </thead>\n",
       "  <tbody>\n",
       "    <tr>\n",
       "      <th>0</th>\n",
       "      <td>Michael Phelps</td>\n",
       "      <td>23.0</td>\n",
       "      <td>United States</td>\n",
       "      <td>2008</td>\n",
       "      <td>8/24/2008</td>\n",
       "      <td>Swimming</td>\n",
       "      <td>8</td>\n",
       "      <td>0</td>\n",
       "      <td>0</td>\n",
       "      <td>8</td>\n",
       "    </tr>\n",
       "    <tr>\n",
       "      <th>1</th>\n",
       "      <td>Michael Phelps</td>\n",
       "      <td>19.0</td>\n",
       "      <td>United States</td>\n",
       "      <td>2004</td>\n",
       "      <td>8/29/2004</td>\n",
       "      <td>Swimming</td>\n",
       "      <td>6</td>\n",
       "      <td>0</td>\n",
       "      <td>2</td>\n",
       "      <td>8</td>\n",
       "    </tr>\n",
       "    <tr>\n",
       "      <th>2</th>\n",
       "      <td>Michael Phelps</td>\n",
       "      <td>27.0</td>\n",
       "      <td>United States</td>\n",
       "      <td>2012</td>\n",
       "      <td>08-12-2012</td>\n",
       "      <td>Swimming</td>\n",
       "      <td>4</td>\n",
       "      <td>2</td>\n",
       "      <td>0</td>\n",
       "      <td>6</td>\n",
       "    </tr>\n",
       "    <tr>\n",
       "      <th>3</th>\n",
       "      <td>Natalie Coughlin</td>\n",
       "      <td>25.0</td>\n",
       "      <td>United States</td>\n",
       "      <td>2008</td>\n",
       "      <td>8/24/2008</td>\n",
       "      <td>Swimming</td>\n",
       "      <td>1</td>\n",
       "      <td>2</td>\n",
       "      <td>3</td>\n",
       "      <td>6</td>\n",
       "    </tr>\n",
       "    <tr>\n",
       "      <th>4</th>\n",
       "      <td>Aleksey Nemov</td>\n",
       "      <td>24.0</td>\n",
       "      <td>Russia</td>\n",
       "      <td>2000</td>\n",
       "      <td>10-01-2000</td>\n",
       "      <td>Gymnastics</td>\n",
       "      <td>2</td>\n",
       "      <td>1</td>\n",
       "      <td>3</td>\n",
       "      <td>6</td>\n",
       "    </tr>\n",
       "    <tr>\n",
       "      <th>...</th>\n",
       "      <td>...</td>\n",
       "      <td>...</td>\n",
       "      <td>...</td>\n",
       "      <td>...</td>\n",
       "      <td>...</td>\n",
       "      <td>...</td>\n",
       "      <td>...</td>\n",
       "      <td>...</td>\n",
       "      <td>...</td>\n",
       "      <td>...</td>\n",
       "    </tr>\n",
       "    <tr>\n",
       "      <th>8613</th>\n",
       "      <td>Olena Sadovnycha</td>\n",
       "      <td>32.0</td>\n",
       "      <td>Ukraine</td>\n",
       "      <td>2000</td>\n",
       "      <td>10-01-2000</td>\n",
       "      <td>Archery</td>\n",
       "      <td>0</td>\n",
       "      <td>1</td>\n",
       "      <td>0</td>\n",
       "      <td>1</td>\n",
       "    </tr>\n",
       "    <tr>\n",
       "      <th>8614</th>\n",
       "      <td>Kateryna Serdiuk</td>\n",
       "      <td>17.0</td>\n",
       "      <td>Ukraine</td>\n",
       "      <td>2000</td>\n",
       "      <td>10-01-2000</td>\n",
       "      <td>Archery</td>\n",
       "      <td>0</td>\n",
       "      <td>1</td>\n",
       "      <td>0</td>\n",
       "      <td>1</td>\n",
       "    </tr>\n",
       "    <tr>\n",
       "      <th>8615</th>\n",
       "      <td>Wietse van Alten</td>\n",
       "      <td>21.0</td>\n",
       "      <td>Netherlands</td>\n",
       "      <td>2000</td>\n",
       "      <td>10-01-2000</td>\n",
       "      <td>Archery</td>\n",
       "      <td>0</td>\n",
       "      <td>0</td>\n",
       "      <td>1</td>\n",
       "      <td>1</td>\n",
       "    </tr>\n",
       "    <tr>\n",
       "      <th>8616</th>\n",
       "      <td>Sandra Wagner-Sachse</td>\n",
       "      <td>31.0</td>\n",
       "      <td>Germany</td>\n",
       "      <td>2000</td>\n",
       "      <td>10-01-2000</td>\n",
       "      <td>Archery</td>\n",
       "      <td>0</td>\n",
       "      <td>0</td>\n",
       "      <td>1</td>\n",
       "      <td>1</td>\n",
       "    </tr>\n",
       "    <tr>\n",
       "      <th>8617</th>\n",
       "      <td>Rod White</td>\n",
       "      <td>23.0</td>\n",
       "      <td>United States</td>\n",
       "      <td>2000</td>\n",
       "      <td>10-01-2000</td>\n",
       "      <td>Archery</td>\n",
       "      <td>0</td>\n",
       "      <td>0</td>\n",
       "      <td>1</td>\n",
       "      <td>1</td>\n",
       "    </tr>\n",
       "  </tbody>\n",
       "</table>\n",
       "<p>8618 rows × 10 columns</p>\n",
       "</div>"
      ],
      "text/plain": [
       "                      name   age        country  year  Date_Given      sports  \\\n",
       "0           Michael Phelps  23.0  United States  2008   8/24/2008    Swimming   \n",
       "1           Michael Phelps  19.0  United States  2004   8/29/2004    Swimming   \n",
       "2           Michael Phelps  27.0  United States  2012  08-12-2012    Swimming   \n",
       "3         Natalie Coughlin  25.0  United States  2008   8/24/2008    Swimming   \n",
       "4            Aleksey Nemov  24.0         Russia  2000  10-01-2000  Gymnastics   \n",
       "...                    ...   ...            ...   ...         ...         ...   \n",
       "8613      Olena Sadovnycha  32.0        Ukraine  2000  10-01-2000     Archery   \n",
       "8614      Kateryna Serdiuk  17.0        Ukraine  2000  10-01-2000     Archery   \n",
       "8615      Wietse van Alten  21.0    Netherlands  2000  10-01-2000     Archery   \n",
       "8616  Sandra Wagner-Sachse  31.0        Germany  2000  10-01-2000     Archery   \n",
       "8617             Rod White  23.0  United States  2000  10-01-2000     Archery   \n",
       "\n",
       "      gold_medal  silver_medal  brone_medal  total_medal  \n",
       "0              8             0            0            8  \n",
       "1              6             0            2            8  \n",
       "2              4             2            0            6  \n",
       "3              1             2            3            6  \n",
       "4              2             1            3            6  \n",
       "...          ...           ...          ...          ...  \n",
       "8613           0             1            0            1  \n",
       "8614           0             1            0            1  \n",
       "8615           0             0            1            1  \n",
       "8616           0             0            1            1  \n",
       "8617           0             0            1            1  \n",
       "\n",
       "[8618 rows x 10 columns]"
      ]
     },
     "execution_count": 74,
     "metadata": {},
     "output_type": "execute_result"
    }
   ],
   "source": [
    "df = pd.read_csv(r'C:\\Users\\Anjii\\Downloads\\olympix_data_organized_with_header (1) (1).csv')   #to read the csv file\n",
    "df"
   ]
  },
  {
   "cell_type": "markdown",
   "id": "1f465d35",
   "metadata": {},
   "source": [
    "### Basic Exploration of the dataset\n",
    "\n",
    "As we have successfully imported the csv fil into a dataframe, we will perform basic exploration of the dataset to understand data given.\n"
   ]
  },
  {
   "cell_type": "code",
   "execution_count": 75,
   "id": "8737f3d1",
   "metadata": {},
   "outputs": [
    {
     "data": {
      "text/plain": [
       "(8618, 10)"
      ]
     },
     "execution_count": 75,
     "metadata": {},
     "output_type": "execute_result"
    }
   ],
   "source": [
    "#To know the size of database using shape function\n",
    "df.shape"
   ]
  },
  {
   "cell_type": "markdown",
   "id": "7ad38382",
   "metadata": {},
   "source": [
    "We can see there are total **8618 number of rows** and **10 number of columns** are present in our given dataset."
   ]
  },
  {
   "cell_type": "code",
   "execution_count": 76,
   "id": "92a85264",
   "metadata": {},
   "outputs": [
    {
     "data": {
      "text/plain": [
       "Index(['name', 'age', 'country', 'year', 'Date_Given', 'sports', 'gold_medal',\n",
       "       'silver_medal', 'brone_medal', 'total_medal'],\n",
       "      dtype='object')"
      ]
     },
     "execution_count": 76,
     "metadata": {},
     "output_type": "execute_result"
    }
   ],
   "source": [
    "#To check for all column present in the data\n",
    "df.columns"
   ]
  },
  {
   "cell_type": "code",
   "execution_count": 77,
   "id": "736a2e85",
   "metadata": {},
   "outputs": [
    {
     "data": {
      "text/html": [
       "<div>\n",
       "<style scoped>\n",
       "    .dataframe tbody tr th:only-of-type {\n",
       "        vertical-align: middle;\n",
       "    }\n",
       "\n",
       "    .dataframe tbody tr th {\n",
       "        vertical-align: top;\n",
       "    }\n",
       "\n",
       "    .dataframe thead th {\n",
       "        text-align: right;\n",
       "    }\n",
       "</style>\n",
       "<table border=\"1\" class=\"dataframe\">\n",
       "  <thead>\n",
       "    <tr style=\"text-align: right;\">\n",
       "      <th></th>\n",
       "      <th>name</th>\n",
       "      <th>age</th>\n",
       "      <th>country</th>\n",
       "      <th>year</th>\n",
       "      <th>Date_Given</th>\n",
       "      <th>sports</th>\n",
       "      <th>gold_medal</th>\n",
       "      <th>silver_medal</th>\n",
       "      <th>brone_medal</th>\n",
       "      <th>total_medal</th>\n",
       "    </tr>\n",
       "  </thead>\n",
       "  <tbody>\n",
       "    <tr>\n",
       "      <th>0</th>\n",
       "      <td>Michael Phelps</td>\n",
       "      <td>23.0</td>\n",
       "      <td>United States</td>\n",
       "      <td>2008</td>\n",
       "      <td>8/24/2008</td>\n",
       "      <td>Swimming</td>\n",
       "      <td>8</td>\n",
       "      <td>0</td>\n",
       "      <td>0</td>\n",
       "      <td>8</td>\n",
       "    </tr>\n",
       "    <tr>\n",
       "      <th>1</th>\n",
       "      <td>Michael Phelps</td>\n",
       "      <td>19.0</td>\n",
       "      <td>United States</td>\n",
       "      <td>2004</td>\n",
       "      <td>8/29/2004</td>\n",
       "      <td>Swimming</td>\n",
       "      <td>6</td>\n",
       "      <td>0</td>\n",
       "      <td>2</td>\n",
       "      <td>8</td>\n",
       "    </tr>\n",
       "    <tr>\n",
       "      <th>2</th>\n",
       "      <td>Michael Phelps</td>\n",
       "      <td>27.0</td>\n",
       "      <td>United States</td>\n",
       "      <td>2012</td>\n",
       "      <td>08-12-2012</td>\n",
       "      <td>Swimming</td>\n",
       "      <td>4</td>\n",
       "      <td>2</td>\n",
       "      <td>0</td>\n",
       "      <td>6</td>\n",
       "    </tr>\n",
       "    <tr>\n",
       "      <th>3</th>\n",
       "      <td>Natalie Coughlin</td>\n",
       "      <td>25.0</td>\n",
       "      <td>United States</td>\n",
       "      <td>2008</td>\n",
       "      <td>8/24/2008</td>\n",
       "      <td>Swimming</td>\n",
       "      <td>1</td>\n",
       "      <td>2</td>\n",
       "      <td>3</td>\n",
       "      <td>6</td>\n",
       "    </tr>\n",
       "    <tr>\n",
       "      <th>4</th>\n",
       "      <td>Aleksey Nemov</td>\n",
       "      <td>24.0</td>\n",
       "      <td>Russia</td>\n",
       "      <td>2000</td>\n",
       "      <td>10-01-2000</td>\n",
       "      <td>Gymnastics</td>\n",
       "      <td>2</td>\n",
       "      <td>1</td>\n",
       "      <td>3</td>\n",
       "      <td>6</td>\n",
       "    </tr>\n",
       "  </tbody>\n",
       "</table>\n",
       "</div>"
      ],
      "text/plain": [
       "               name   age        country  year  Date_Given      sports  \\\n",
       "0    Michael Phelps  23.0  United States  2008   8/24/2008    Swimming   \n",
       "1    Michael Phelps  19.0  United States  2004   8/29/2004    Swimming   \n",
       "2    Michael Phelps  27.0  United States  2012  08-12-2012    Swimming   \n",
       "3  Natalie Coughlin  25.0  United States  2008   8/24/2008    Swimming   \n",
       "4     Aleksey Nemov  24.0         Russia  2000  10-01-2000  Gymnastics   \n",
       "\n",
       "   gold_medal  silver_medal  brone_medal  total_medal  \n",
       "0           8             0            0            8  \n",
       "1           6             0            2            8  \n",
       "2           4             2            0            6  \n",
       "3           1             2            3            6  \n",
       "4           2             1            3            6  "
      ]
     },
     "execution_count": 77,
     "metadata": {},
     "output_type": "execute_result"
    }
   ],
   "source": [
    "# Exploring first 10 rows of the dataset using head function\n",
    "df.head(5) "
   ]
  },
  {
   "cell_type": "code",
   "execution_count": 78,
   "id": "3d5c71b0",
   "metadata": {},
   "outputs": [
    {
     "data": {
      "text/html": [
       "<div>\n",
       "<style scoped>\n",
       "    .dataframe tbody tr th:only-of-type {\n",
       "        vertical-align: middle;\n",
       "    }\n",
       "\n",
       "    .dataframe tbody tr th {\n",
       "        vertical-align: top;\n",
       "    }\n",
       "\n",
       "    .dataframe thead th {\n",
       "        text-align: right;\n",
       "    }\n",
       "</style>\n",
       "<table border=\"1\" class=\"dataframe\">\n",
       "  <thead>\n",
       "    <tr style=\"text-align: right;\">\n",
       "      <th></th>\n",
       "      <th>name</th>\n",
       "      <th>age</th>\n",
       "      <th>country</th>\n",
       "      <th>year</th>\n",
       "      <th>Date_Given</th>\n",
       "      <th>sports</th>\n",
       "      <th>gold_medal</th>\n",
       "      <th>silver_medal</th>\n",
       "      <th>brone_medal</th>\n",
       "      <th>total_medal</th>\n",
       "    </tr>\n",
       "  </thead>\n",
       "  <tbody>\n",
       "    <tr>\n",
       "      <th>8613</th>\n",
       "      <td>Olena Sadovnycha</td>\n",
       "      <td>32.0</td>\n",
       "      <td>Ukraine</td>\n",
       "      <td>2000</td>\n",
       "      <td>10-01-2000</td>\n",
       "      <td>Archery</td>\n",
       "      <td>0</td>\n",
       "      <td>1</td>\n",
       "      <td>0</td>\n",
       "      <td>1</td>\n",
       "    </tr>\n",
       "    <tr>\n",
       "      <th>8614</th>\n",
       "      <td>Kateryna Serdiuk</td>\n",
       "      <td>17.0</td>\n",
       "      <td>Ukraine</td>\n",
       "      <td>2000</td>\n",
       "      <td>10-01-2000</td>\n",
       "      <td>Archery</td>\n",
       "      <td>0</td>\n",
       "      <td>1</td>\n",
       "      <td>0</td>\n",
       "      <td>1</td>\n",
       "    </tr>\n",
       "    <tr>\n",
       "      <th>8615</th>\n",
       "      <td>Wietse van Alten</td>\n",
       "      <td>21.0</td>\n",
       "      <td>Netherlands</td>\n",
       "      <td>2000</td>\n",
       "      <td>10-01-2000</td>\n",
       "      <td>Archery</td>\n",
       "      <td>0</td>\n",
       "      <td>0</td>\n",
       "      <td>1</td>\n",
       "      <td>1</td>\n",
       "    </tr>\n",
       "    <tr>\n",
       "      <th>8616</th>\n",
       "      <td>Sandra Wagner-Sachse</td>\n",
       "      <td>31.0</td>\n",
       "      <td>Germany</td>\n",
       "      <td>2000</td>\n",
       "      <td>10-01-2000</td>\n",
       "      <td>Archery</td>\n",
       "      <td>0</td>\n",
       "      <td>0</td>\n",
       "      <td>1</td>\n",
       "      <td>1</td>\n",
       "    </tr>\n",
       "    <tr>\n",
       "      <th>8617</th>\n",
       "      <td>Rod White</td>\n",
       "      <td>23.0</td>\n",
       "      <td>United States</td>\n",
       "      <td>2000</td>\n",
       "      <td>10-01-2000</td>\n",
       "      <td>Archery</td>\n",
       "      <td>0</td>\n",
       "      <td>0</td>\n",
       "      <td>1</td>\n",
       "      <td>1</td>\n",
       "    </tr>\n",
       "  </tbody>\n",
       "</table>\n",
       "</div>"
      ],
      "text/plain": [
       "                      name   age        country  year  Date_Given   sports  \\\n",
       "8613      Olena Sadovnycha  32.0        Ukraine  2000  10-01-2000  Archery   \n",
       "8614      Kateryna Serdiuk  17.0        Ukraine  2000  10-01-2000  Archery   \n",
       "8615      Wietse van Alten  21.0    Netherlands  2000  10-01-2000  Archery   \n",
       "8616  Sandra Wagner-Sachse  31.0        Germany  2000  10-01-2000  Archery   \n",
       "8617             Rod White  23.0  United States  2000  10-01-2000  Archery   \n",
       "\n",
       "      gold_medal  silver_medal  brone_medal  total_medal  \n",
       "8613           0             1            0            1  \n",
       "8614           0             1            0            1  \n",
       "8615           0             0            1            1  \n",
       "8616           0             0            1            1  \n",
       "8617           0             0            1            1  "
      ]
     },
     "execution_count": 78,
     "metadata": {},
     "output_type": "execute_result"
    }
   ],
   "source": [
    "# Exploring last 10 rows of dataset using tail function.\n",
    "df.tail(5) "
   ]
  },
  {
   "cell_type": "code",
   "execution_count": 79,
   "id": "75f2594e",
   "metadata": {},
   "outputs": [
    {
     "name": "stdout",
     "output_type": "stream",
     "text": [
      "<class 'pandas.core.frame.DataFrame'>\n",
      "RangeIndex: 8618 entries, 0 to 8617\n",
      "Data columns (total 10 columns):\n",
      " #   Column        Non-Null Count  Dtype  \n",
      "---  ------        --------------  -----  \n",
      " 0   name          8613 non-null   object \n",
      " 1   age           8613 non-null   float64\n",
      " 2   country       8618 non-null   object \n",
      " 3   year          8618 non-null   int64  \n",
      " 4   Date_Given    8618 non-null   object \n",
      " 5   sports        8618 non-null   object \n",
      " 6   gold_medal    8618 non-null   int64  \n",
      " 7   silver_medal  8618 non-null   int64  \n",
      " 8   brone_medal   8618 non-null   int64  \n",
      " 9   total_medal   8618 non-null   int64  \n",
      "dtypes: float64(1), int64(5), object(4)\n",
      "memory usage: 673.4+ KB\n"
     ]
    }
   ],
   "source": [
    "#To check for basic information of the dataset such as null elements and datatypes of column, memory usage by data\n",
    "df.info()   "
   ]
  },
  {
   "cell_type": "markdown",
   "id": "ea7f865f",
   "metadata": {},
   "source": [
    "##### Using info() function we get to know following information about the given dataset:\n",
    "\n",
    "• There are total **8618 entries** i.e. there are **8618 rows** and **10 columns**.`\n",
    "\n",
    "• For name and age columns Non-Null Count is less than total rows which suggest **missing values are present**.\n",
    "\n",
    "• All column's **datatypes are reading correctly**.\n"
   ]
  },
  {
   "cell_type": "markdown",
   "id": "21db0e7d",
   "metadata": {},
   "source": [
    "### Dealing with Missing values and Duplicate values using pandas\n",
    "\n",
    "Handling missing values and duplicate values is the important step to perform before analysis of data. Presence of this kind of data can affect our analysis and create bias in the study of dataset. It can cause error while giving output and can cause skewness in the original data. Therefore, data cleansing is important step in data analysis.\n",
    "\n",
    "First, we will check for null values in the dataset after that, we will check duplicate values."
   ]
  },
  {
   "cell_type": "code",
   "execution_count": 80,
   "id": "b0bf39c3",
   "metadata": {},
   "outputs": [
    {
     "data": {
      "text/plain": [
       "name             True\n",
       "age              True\n",
       "country         False\n",
       "year            False\n",
       "Date_Given      False\n",
       "sports          False\n",
       "gold_medal      False\n",
       "silver_medal    False\n",
       "brone_medal     False\n",
       "total_medal     False\n",
       "dtype: bool"
      ]
     },
     "execution_count": 80,
     "metadata": {},
     "output_type": "execute_result"
    }
   ],
   "source": [
    "#to check which column have missing values using isna()\n",
    "df.isna().any()"
   ]
  },
  {
   "cell_type": "markdown",
   "id": "ac6d635a",
   "metadata": {},
   "source": [
    "The isna().any() returns output in the boolean form. From above we can see that for name and age column value is True, which means null values or **NaN values are present in those two columns&.**"
   ]
  },
  {
   "cell_type": "code",
   "execution_count": 81,
   "id": "e0ccebfa",
   "metadata": {},
   "outputs": [
    {
     "data": {
      "text/plain": [
       "name            5\n",
       "age             5\n",
       "country         0\n",
       "year            0\n",
       "Date_Given      0\n",
       "sports          0\n",
       "gold_medal      0\n",
       "silver_medal    0\n",
       "brone_medal     0\n",
       "total_medal     0\n",
       "dtype: int64"
      ]
     },
     "execution_count": 81,
     "metadata": {},
     "output_type": "execute_result"
    }
   ],
   "source": [
    "#to check number of missing values\n",
    "df.isna().sum()"
   ]
  },
  {
   "cell_type": "markdown",
   "id": "bf5a7003",
   "metadata": {},
   "source": [
    "There are **5 null values** present. We will explore rows having null values as follows:"
   ]
  },
  {
   "cell_type": "code",
   "execution_count": 82,
   "id": "70851677",
   "metadata": {},
   "outputs": [
    {
     "data": {
      "text/html": [
       "<div>\n",
       "<style scoped>\n",
       "    .dataframe tbody tr th:only-of-type {\n",
       "        vertical-align: middle;\n",
       "    }\n",
       "\n",
       "    .dataframe tbody tr th {\n",
       "        vertical-align: top;\n",
       "    }\n",
       "\n",
       "    .dataframe thead th {\n",
       "        text-align: right;\n",
       "    }\n",
       "</style>\n",
       "<table border=\"1\" class=\"dataframe\">\n",
       "  <thead>\n",
       "    <tr style=\"text-align: right;\">\n",
       "      <th></th>\n",
       "      <th>name</th>\n",
       "      <th>age</th>\n",
       "      <th>country</th>\n",
       "      <th>year</th>\n",
       "      <th>Date_Given</th>\n",
       "      <th>sports</th>\n",
       "      <th>gold_medal</th>\n",
       "      <th>silver_medal</th>\n",
       "      <th>brone_medal</th>\n",
       "      <th>total_medal</th>\n",
       "    </tr>\n",
       "  </thead>\n",
       "  <tbody>\n",
       "    <tr>\n",
       "      <th>1428</th>\n",
       "      <td>NaN</td>\n",
       "      <td>NaN</td>\n",
       "      <td>Brazil</td>\n",
       "      <td>2012</td>\n",
       "      <td>08-12-2012</td>\n",
       "      <td>Volleyball</td>\n",
       "      <td>0</td>\n",
       "      <td>1</td>\n",
       "      <td>0</td>\n",
       "      <td>1</td>\n",
       "    </tr>\n",
       "    <tr>\n",
       "      <th>1429</th>\n",
       "      <td>NaN</td>\n",
       "      <td>NaN</td>\n",
       "      <td>Brazil</td>\n",
       "      <td>2012</td>\n",
       "      <td>08-12-2012</td>\n",
       "      <td>Volleyball</td>\n",
       "      <td>0</td>\n",
       "      <td>1</td>\n",
       "      <td>0</td>\n",
       "      <td>1</td>\n",
       "    </tr>\n",
       "    <tr>\n",
       "      <th>1430</th>\n",
       "      <td>NaN</td>\n",
       "      <td>NaN</td>\n",
       "      <td>Brazil</td>\n",
       "      <td>2012</td>\n",
       "      <td>08-12-2012</td>\n",
       "      <td>Volleyball</td>\n",
       "      <td>0</td>\n",
       "      <td>1</td>\n",
       "      <td>0</td>\n",
       "      <td>1</td>\n",
       "    </tr>\n",
       "    <tr>\n",
       "      <th>4485</th>\n",
       "      <td>NaN</td>\n",
       "      <td>NaN</td>\n",
       "      <td>Argentina</td>\n",
       "      <td>2012</td>\n",
       "      <td>08-12-2012</td>\n",
       "      <td>Hockey</td>\n",
       "      <td>0</td>\n",
       "      <td>1</td>\n",
       "      <td>0</td>\n",
       "      <td>1</td>\n",
       "    </tr>\n",
       "    <tr>\n",
       "      <th>4486</th>\n",
       "      <td>NaN</td>\n",
       "      <td>NaN</td>\n",
       "      <td>Argentina</td>\n",
       "      <td>2012</td>\n",
       "      <td>08-12-2012</td>\n",
       "      <td>Hockey</td>\n",
       "      <td>0</td>\n",
       "      <td>1</td>\n",
       "      <td>0</td>\n",
       "      <td>1</td>\n",
       "    </tr>\n",
       "  </tbody>\n",
       "</table>\n",
       "</div>"
      ],
      "text/plain": [
       "     name  age    country  year  Date_Given      sports  gold_medal  \\\n",
       "1428  NaN  NaN     Brazil  2012  08-12-2012  Volleyball           0   \n",
       "1429  NaN  NaN     Brazil  2012  08-12-2012  Volleyball           0   \n",
       "1430  NaN  NaN     Brazil  2012  08-12-2012  Volleyball           0   \n",
       "4485  NaN  NaN  Argentina  2012  08-12-2012      Hockey           0   \n",
       "4486  NaN  NaN  Argentina  2012  08-12-2012      Hockey           0   \n",
       "\n",
       "      silver_medal  brone_medal  total_medal  \n",
       "1428             1            0            1  \n",
       "1429             1            0            1  \n",
       "1430             1            0            1  \n",
       "4485             1            0            1  \n",
       "4486             1            0            1  "
      ]
     },
     "execution_count": 82,
     "metadata": {},
     "output_type": "execute_result"
    }
   ],
   "source": [
    "df[df.isna().any(axis=1)]"
   ]
  },
  {
   "cell_type": "markdown",
   "id": "c4fd125c",
   "metadata": {},
   "source": [
    "We can see these **5 entries are having NaN values** i.e. missing values.\n",
    "\n",
    "Futher, we will check for duplicates present."
   ]
  },
  {
   "cell_type": "code",
   "execution_count": 83,
   "id": "4c59af21",
   "metadata": {},
   "outputs": [
    {
     "data": {
      "text/plain": [
       "3"
      ]
     },
     "execution_count": 83,
     "metadata": {},
     "output_type": "execute_result"
    }
   ],
   "source": [
    "#to check for count of duplicates\n",
    "df.duplicated().sum()"
   ]
  },
  {
   "cell_type": "code",
   "execution_count": 84,
   "id": "d63ad56f",
   "metadata": {},
   "outputs": [
    {
     "data": {
      "text/html": [
       "<div>\n",
       "<style scoped>\n",
       "    .dataframe tbody tr th:only-of-type {\n",
       "        vertical-align: middle;\n",
       "    }\n",
       "\n",
       "    .dataframe tbody tr th {\n",
       "        vertical-align: top;\n",
       "    }\n",
       "\n",
       "    .dataframe thead th {\n",
       "        text-align: right;\n",
       "    }\n",
       "</style>\n",
       "<table border=\"1\" class=\"dataframe\">\n",
       "  <thead>\n",
       "    <tr style=\"text-align: right;\">\n",
       "      <th></th>\n",
       "      <th>name</th>\n",
       "      <th>age</th>\n",
       "      <th>country</th>\n",
       "      <th>year</th>\n",
       "      <th>Date_Given</th>\n",
       "      <th>sports</th>\n",
       "      <th>gold_medal</th>\n",
       "      <th>silver_medal</th>\n",
       "      <th>brone_medal</th>\n",
       "      <th>total_medal</th>\n",
       "    </tr>\n",
       "  </thead>\n",
       "  <tbody>\n",
       "    <tr>\n",
       "      <th>1429</th>\n",
       "      <td>NaN</td>\n",
       "      <td>NaN</td>\n",
       "      <td>Brazil</td>\n",
       "      <td>2012</td>\n",
       "      <td>08-12-2012</td>\n",
       "      <td>Volleyball</td>\n",
       "      <td>0</td>\n",
       "      <td>1</td>\n",
       "      <td>0</td>\n",
       "      <td>1</td>\n",
       "    </tr>\n",
       "    <tr>\n",
       "      <th>1430</th>\n",
       "      <td>NaN</td>\n",
       "      <td>NaN</td>\n",
       "      <td>Brazil</td>\n",
       "      <td>2012</td>\n",
       "      <td>08-12-2012</td>\n",
       "      <td>Volleyball</td>\n",
       "      <td>0</td>\n",
       "      <td>1</td>\n",
       "      <td>0</td>\n",
       "      <td>1</td>\n",
       "    </tr>\n",
       "    <tr>\n",
       "      <th>4486</th>\n",
       "      <td>NaN</td>\n",
       "      <td>NaN</td>\n",
       "      <td>Argentina</td>\n",
       "      <td>2012</td>\n",
       "      <td>08-12-2012</td>\n",
       "      <td>Hockey</td>\n",
       "      <td>0</td>\n",
       "      <td>1</td>\n",
       "      <td>0</td>\n",
       "      <td>1</td>\n",
       "    </tr>\n",
       "  </tbody>\n",
       "</table>\n",
       "</div>"
      ],
      "text/plain": [
       "     name  age    country  year  Date_Given      sports  gold_medal  \\\n",
       "1429  NaN  NaN     Brazil  2012  08-12-2012  Volleyball           0   \n",
       "1430  NaN  NaN     Brazil  2012  08-12-2012  Volleyball           0   \n",
       "4486  NaN  NaN  Argentina  2012  08-12-2012      Hockey           0   \n",
       "\n",
       "      silver_medal  brone_medal  total_medal  \n",
       "1429             1            0            1  \n",
       "1430             1            0            1  \n",
       "4486             1            0            1  "
      ]
     },
     "execution_count": 84,
     "metadata": {},
     "output_type": "execute_result"
    }
   ],
   "source": [
    "#exploring duplicated rows present in df\n",
    "df[df.duplicated()]"
   ]
  },
  {
   "cell_type": "markdown",
   "id": "03cd3110",
   "metadata": {},
   "source": [
    "From above we can explore **3 duplicate** values which are present only for columns having NaN values.\n",
    "\n",
    "Removing duplicate values in a dataset is a important step in data cleaning process as duplicate data can occupy unnecessary storage and slow down output speed. Also duplicate values can skew analysis results and threaten the integrity of the data set.\n",
    "\n",
    "#### **As we can see there are only three duplicate rows in entire dataset, our dataset and findings will not affect if we drop them. Hence we will drop duplicate rows.**"
   ]
  },
  {
   "cell_type": "code",
   "execution_count": 85,
   "id": "76786a4c",
   "metadata": {},
   "outputs": [
    {
     "data": {
      "text/html": [
       "<div>\n",
       "<style scoped>\n",
       "    .dataframe tbody tr th:only-of-type {\n",
       "        vertical-align: middle;\n",
       "    }\n",
       "\n",
       "    .dataframe tbody tr th {\n",
       "        vertical-align: top;\n",
       "    }\n",
       "\n",
       "    .dataframe thead th {\n",
       "        text-align: right;\n",
       "    }\n",
       "</style>\n",
       "<table border=\"1\" class=\"dataframe\">\n",
       "  <thead>\n",
       "    <tr style=\"text-align: right;\">\n",
       "      <th></th>\n",
       "      <th>name</th>\n",
       "      <th>age</th>\n",
       "      <th>country</th>\n",
       "      <th>year</th>\n",
       "      <th>Date_Given</th>\n",
       "      <th>sports</th>\n",
       "      <th>gold_medal</th>\n",
       "      <th>silver_medal</th>\n",
       "      <th>brone_medal</th>\n",
       "      <th>total_medal</th>\n",
       "    </tr>\n",
       "  </thead>\n",
       "  <tbody>\n",
       "    <tr>\n",
       "      <th>0</th>\n",
       "      <td>Michael Phelps</td>\n",
       "      <td>23.0</td>\n",
       "      <td>United States</td>\n",
       "      <td>2008</td>\n",
       "      <td>8/24/2008</td>\n",
       "      <td>Swimming</td>\n",
       "      <td>8</td>\n",
       "      <td>0</td>\n",
       "      <td>0</td>\n",
       "      <td>8</td>\n",
       "    </tr>\n",
       "    <tr>\n",
       "      <th>1</th>\n",
       "      <td>Michael Phelps</td>\n",
       "      <td>19.0</td>\n",
       "      <td>United States</td>\n",
       "      <td>2004</td>\n",
       "      <td>8/29/2004</td>\n",
       "      <td>Swimming</td>\n",
       "      <td>6</td>\n",
       "      <td>0</td>\n",
       "      <td>2</td>\n",
       "      <td>8</td>\n",
       "    </tr>\n",
       "    <tr>\n",
       "      <th>2</th>\n",
       "      <td>Michael Phelps</td>\n",
       "      <td>27.0</td>\n",
       "      <td>United States</td>\n",
       "      <td>2012</td>\n",
       "      <td>08-12-2012</td>\n",
       "      <td>Swimming</td>\n",
       "      <td>4</td>\n",
       "      <td>2</td>\n",
       "      <td>0</td>\n",
       "      <td>6</td>\n",
       "    </tr>\n",
       "    <tr>\n",
       "      <th>3</th>\n",
       "      <td>Natalie Coughlin</td>\n",
       "      <td>25.0</td>\n",
       "      <td>United States</td>\n",
       "      <td>2008</td>\n",
       "      <td>8/24/2008</td>\n",
       "      <td>Swimming</td>\n",
       "      <td>1</td>\n",
       "      <td>2</td>\n",
       "      <td>3</td>\n",
       "      <td>6</td>\n",
       "    </tr>\n",
       "    <tr>\n",
       "      <th>4</th>\n",
       "      <td>Aleksey Nemov</td>\n",
       "      <td>24.0</td>\n",
       "      <td>Russia</td>\n",
       "      <td>2000</td>\n",
       "      <td>10-01-2000</td>\n",
       "      <td>Gymnastics</td>\n",
       "      <td>2</td>\n",
       "      <td>1</td>\n",
       "      <td>3</td>\n",
       "      <td>6</td>\n",
       "    </tr>\n",
       "    <tr>\n",
       "      <th>...</th>\n",
       "      <td>...</td>\n",
       "      <td>...</td>\n",
       "      <td>...</td>\n",
       "      <td>...</td>\n",
       "      <td>...</td>\n",
       "      <td>...</td>\n",
       "      <td>...</td>\n",
       "      <td>...</td>\n",
       "      <td>...</td>\n",
       "      <td>...</td>\n",
       "    </tr>\n",
       "    <tr>\n",
       "      <th>8613</th>\n",
       "      <td>Olena Sadovnycha</td>\n",
       "      <td>32.0</td>\n",
       "      <td>Ukraine</td>\n",
       "      <td>2000</td>\n",
       "      <td>10-01-2000</td>\n",
       "      <td>Archery</td>\n",
       "      <td>0</td>\n",
       "      <td>1</td>\n",
       "      <td>0</td>\n",
       "      <td>1</td>\n",
       "    </tr>\n",
       "    <tr>\n",
       "      <th>8614</th>\n",
       "      <td>Kateryna Serdiuk</td>\n",
       "      <td>17.0</td>\n",
       "      <td>Ukraine</td>\n",
       "      <td>2000</td>\n",
       "      <td>10-01-2000</td>\n",
       "      <td>Archery</td>\n",
       "      <td>0</td>\n",
       "      <td>1</td>\n",
       "      <td>0</td>\n",
       "      <td>1</td>\n",
       "    </tr>\n",
       "    <tr>\n",
       "      <th>8615</th>\n",
       "      <td>Wietse van Alten</td>\n",
       "      <td>21.0</td>\n",
       "      <td>Netherlands</td>\n",
       "      <td>2000</td>\n",
       "      <td>10-01-2000</td>\n",
       "      <td>Archery</td>\n",
       "      <td>0</td>\n",
       "      <td>0</td>\n",
       "      <td>1</td>\n",
       "      <td>1</td>\n",
       "    </tr>\n",
       "    <tr>\n",
       "      <th>8616</th>\n",
       "      <td>Sandra Wagner-Sachse</td>\n",
       "      <td>31.0</td>\n",
       "      <td>Germany</td>\n",
       "      <td>2000</td>\n",
       "      <td>10-01-2000</td>\n",
       "      <td>Archery</td>\n",
       "      <td>0</td>\n",
       "      <td>0</td>\n",
       "      <td>1</td>\n",
       "      <td>1</td>\n",
       "    </tr>\n",
       "    <tr>\n",
       "      <th>8617</th>\n",
       "      <td>Rod White</td>\n",
       "      <td>23.0</td>\n",
       "      <td>United States</td>\n",
       "      <td>2000</td>\n",
       "      <td>10-01-2000</td>\n",
       "      <td>Archery</td>\n",
       "      <td>0</td>\n",
       "      <td>0</td>\n",
       "      <td>1</td>\n",
       "      <td>1</td>\n",
       "    </tr>\n",
       "  </tbody>\n",
       "</table>\n",
       "<p>8615 rows × 10 columns</p>\n",
       "</div>"
      ],
      "text/plain": [
       "                      name   age        country  year  Date_Given      sports  \\\n",
       "0           Michael Phelps  23.0  United States  2008   8/24/2008    Swimming   \n",
       "1           Michael Phelps  19.0  United States  2004   8/29/2004    Swimming   \n",
       "2           Michael Phelps  27.0  United States  2012  08-12-2012    Swimming   \n",
       "3         Natalie Coughlin  25.0  United States  2008   8/24/2008    Swimming   \n",
       "4            Aleksey Nemov  24.0         Russia  2000  10-01-2000  Gymnastics   \n",
       "...                    ...   ...            ...   ...         ...         ...   \n",
       "8613      Olena Sadovnycha  32.0        Ukraine  2000  10-01-2000     Archery   \n",
       "8614      Kateryna Serdiuk  17.0        Ukraine  2000  10-01-2000     Archery   \n",
       "8615      Wietse van Alten  21.0    Netherlands  2000  10-01-2000     Archery   \n",
       "8616  Sandra Wagner-Sachse  31.0        Germany  2000  10-01-2000     Archery   \n",
       "8617             Rod White  23.0  United States  2000  10-01-2000     Archery   \n",
       "\n",
       "      gold_medal  silver_medal  brone_medal  total_medal  \n",
       "0              8             0            0            8  \n",
       "1              6             0            2            8  \n",
       "2              4             2            0            6  \n",
       "3              1             2            3            6  \n",
       "4              2             1            3            6  \n",
       "...          ...           ...          ...          ...  \n",
       "8613           0             1            0            1  \n",
       "8614           0             1            0            1  \n",
       "8615           0             0            1            1  \n",
       "8616           0             0            1            1  \n",
       "8617           0             0            1            1  \n",
       "\n",
       "[8615 rows x 10 columns]"
      ]
     },
     "execution_count": 85,
     "metadata": {},
     "output_type": "execute_result"
    }
   ],
   "source": [
    "#dropping all duplicates from df\n",
    "df.drop_duplicates(inplace=True)\n",
    "df"
   ]
  },
  {
   "cell_type": "code",
   "execution_count": 86,
   "id": "8b350178",
   "metadata": {},
   "outputs": [
    {
     "data": {
      "text/plain": [
       "0"
      ]
     },
     "execution_count": 86,
     "metadata": {},
     "output_type": "execute_result"
    }
   ],
   "source": [
    "#to recheck if all duplicates are removed or not\n",
    "df.duplicated().sum()"
   ]
  },
  {
   "cell_type": "markdown",
   "id": "dab5321d",
   "metadata": {},
   "source": [
    "**All duplicates are successfully removed from our original dataset**, as we have set inplace parameter true. Now our data set have 8615 rows.\n",
    "\n",
    "*Now, we will fill **'unknown'** value for NaN values in name column using fillna().* After that we will cross check if values are filled successfully or not using index."
   ]
  },
  {
   "cell_type": "code",
   "execution_count": 87,
   "id": "259db620",
   "metadata": {},
   "outputs": [
    {
     "data": {
      "text/html": [
       "<div>\n",
       "<style scoped>\n",
       "    .dataframe tbody tr th:only-of-type {\n",
       "        vertical-align: middle;\n",
       "    }\n",
       "\n",
       "    .dataframe tbody tr th {\n",
       "        vertical-align: top;\n",
       "    }\n",
       "\n",
       "    .dataframe thead th {\n",
       "        text-align: right;\n",
       "    }\n",
       "</style>\n",
       "<table border=\"1\" class=\"dataframe\">\n",
       "  <thead>\n",
       "    <tr style=\"text-align: right;\">\n",
       "      <th></th>\n",
       "      <th>name</th>\n",
       "      <th>age</th>\n",
       "      <th>country</th>\n",
       "      <th>year</th>\n",
       "      <th>Date_Given</th>\n",
       "      <th>sports</th>\n",
       "      <th>gold_medal</th>\n",
       "      <th>silver_medal</th>\n",
       "      <th>brone_medal</th>\n",
       "      <th>total_medal</th>\n",
       "    </tr>\n",
       "  </thead>\n",
       "  <tbody>\n",
       "    <tr>\n",
       "      <th>1428</th>\n",
       "      <td>unknown</td>\n",
       "      <td>NaN</td>\n",
       "      <td>Brazil</td>\n",
       "      <td>2012</td>\n",
       "      <td>08-12-2012</td>\n",
       "      <td>Volleyball</td>\n",
       "      <td>0</td>\n",
       "      <td>1</td>\n",
       "      <td>0</td>\n",
       "      <td>1</td>\n",
       "    </tr>\n",
       "    <tr>\n",
       "      <th>4485</th>\n",
       "      <td>unknown</td>\n",
       "      <td>NaN</td>\n",
       "      <td>Argentina</td>\n",
       "      <td>2012</td>\n",
       "      <td>08-12-2012</td>\n",
       "      <td>Hockey</td>\n",
       "      <td>0</td>\n",
       "      <td>1</td>\n",
       "      <td>0</td>\n",
       "      <td>1</td>\n",
       "    </tr>\n",
       "  </tbody>\n",
       "</table>\n",
       "</div>"
      ],
      "text/plain": [
       "         name  age    country  year  Date_Given      sports  gold_medal  \\\n",
       "1428  unknown  NaN     Brazil  2012  08-12-2012  Volleyball           0   \n",
       "4485  unknown  NaN  Argentina  2012  08-12-2012      Hockey           0   \n",
       "\n",
       "      silver_medal  brone_medal  total_medal  \n",
       "1428             1            0            1  \n",
       "4485             1            0            1  "
      ]
     },
     "execution_count": 87,
     "metadata": {},
     "output_type": "execute_result"
    }
   ],
   "source": [
    "df['name'].fillna('unknown', inplace =True)\n",
    "df.iloc[[1428,4483]]"
   ]
  },
  {
   "cell_type": "markdown",
   "id": "94b7c773",
   "metadata": {},
   "source": [
    "**The NaN values in the name column has been successfully filled by 'unknown'.**\n",
    "\n",
    "For filling age column, we can use mean value of age. \n",
    "As there are only two countries having NaN values, we can also use mean value for each country separately. For that, first we have to subset dataset for column country having Brazil and Argentina. And later we can find mean age for each country as follows:"
   ]
  },
  {
   "cell_type": "code",
   "execution_count": 88,
   "id": "5ca88e3c",
   "metadata": {},
   "outputs": [
    {
     "data": {
      "text/html": [
       "<div>\n",
       "<style scoped>\n",
       "    .dataframe tbody tr th:only-of-type {\n",
       "        vertical-align: middle;\n",
       "    }\n",
       "\n",
       "    .dataframe tbody tr th {\n",
       "        vertical-align: top;\n",
       "    }\n",
       "\n",
       "    .dataframe thead th {\n",
       "        text-align: right;\n",
       "    }\n",
       "</style>\n",
       "<table border=\"1\" class=\"dataframe\">\n",
       "  <thead>\n",
       "    <tr style=\"text-align: right;\">\n",
       "      <th></th>\n",
       "      <th>name</th>\n",
       "      <th>age</th>\n",
       "      <th>country</th>\n",
       "      <th>year</th>\n",
       "      <th>Date_Given</th>\n",
       "      <th>sports</th>\n",
       "      <th>gold_medal</th>\n",
       "      <th>silver_medal</th>\n",
       "      <th>brone_medal</th>\n",
       "      <th>total_medal</th>\n",
       "    </tr>\n",
       "  </thead>\n",
       "  <tbody>\n",
       "    <tr>\n",
       "      <th>222</th>\n",
       "      <td>César Cielo Filho</td>\n",
       "      <td>21.0</td>\n",
       "      <td>Brazil</td>\n",
       "      <td>2008</td>\n",
       "      <td>8/24/2008</td>\n",
       "      <td>Swimming</td>\n",
       "      <td>1</td>\n",
       "      <td>0</td>\n",
       "      <td>1</td>\n",
       "      <td>2</td>\n",
       "    </tr>\n",
       "    <tr>\n",
       "      <th>1428</th>\n",
       "      <td>unknown</td>\n",
       "      <td>NaN</td>\n",
       "      <td>Brazil</td>\n",
       "      <td>2012</td>\n",
       "      <td>08-12-2012</td>\n",
       "      <td>Volleyball</td>\n",
       "      <td>0</td>\n",
       "      <td>1</td>\n",
       "      <td>0</td>\n",
       "      <td>1</td>\n",
       "    </tr>\n",
       "    <tr>\n",
       "      <th>1432</th>\n",
       "      <td>Thiago Alves</td>\n",
       "      <td>26.0</td>\n",
       "      <td>Brazil</td>\n",
       "      <td>2012</td>\n",
       "      <td>08-12-2012</td>\n",
       "      <td>Volleyball</td>\n",
       "      <td>0</td>\n",
       "      <td>1</td>\n",
       "      <td>0</td>\n",
       "      <td>1</td>\n",
       "    </tr>\n",
       "    <tr>\n",
       "      <th>1441</th>\n",
       "      <td>Tandara Caixeta</td>\n",
       "      <td>23.0</td>\n",
       "      <td>Brazil</td>\n",
       "      <td>2012</td>\n",
       "      <td>08-12-2012</td>\n",
       "      <td>Volleyball</td>\n",
       "      <td>1</td>\n",
       "      <td>0</td>\n",
       "      <td>0</td>\n",
       "      <td>1</td>\n",
       "    </tr>\n",
       "    <tr>\n",
       "      <th>1442</th>\n",
       "      <td>Adenízia da Silva</td>\n",
       "      <td>25.0</td>\n",
       "      <td>Brazil</td>\n",
       "      <td>2012</td>\n",
       "      <td>08-12-2012</td>\n",
       "      <td>Volleyball</td>\n",
       "      <td>1</td>\n",
       "      <td>0</td>\n",
       "      <td>0</td>\n",
       "      <td>1</td>\n",
       "    </tr>\n",
       "    <tr>\n",
       "      <th>...</th>\n",
       "      <td>...</td>\n",
       "      <td>...</td>\n",
       "      <td>...</td>\n",
       "      <td>...</td>\n",
       "      <td>...</td>\n",
       "      <td>...</td>\n",
       "      <td>...</td>\n",
       "      <td>...</td>\n",
       "      <td>...</td>\n",
       "      <td>...</td>\n",
       "    </tr>\n",
       "    <tr>\n",
       "      <th>8371</th>\n",
       "      <td>André da Silva</td>\n",
       "      <td>27.0</td>\n",
       "      <td>Brazil</td>\n",
       "      <td>2000</td>\n",
       "      <td>10-01-2000</td>\n",
       "      <td>Athletics</td>\n",
       "      <td>0</td>\n",
       "      <td>1</td>\n",
       "      <td>0</td>\n",
       "      <td>1</td>\n",
       "    </tr>\n",
       "    <tr>\n",
       "      <th>8372</th>\n",
       "      <td>Claudinei da Silva</td>\n",
       "      <td>29.0</td>\n",
       "      <td>Brazil</td>\n",
       "      <td>2000</td>\n",
       "      <td>10-01-2000</td>\n",
       "      <td>Athletics</td>\n",
       "      <td>0</td>\n",
       "      <td>1</td>\n",
       "      <td>0</td>\n",
       "      <td>1</td>\n",
       "    </tr>\n",
       "    <tr>\n",
       "      <th>8427</th>\n",
       "      <td>Vicente Lima</td>\n",
       "      <td>23.0</td>\n",
       "      <td>Brazil</td>\n",
       "      <td>2000</td>\n",
       "      <td>10-01-2000</td>\n",
       "      <td>Athletics</td>\n",
       "      <td>0</td>\n",
       "      <td>1</td>\n",
       "      <td>0</td>\n",
       "      <td>1</td>\n",
       "    </tr>\n",
       "    <tr>\n",
       "      <th>8462</th>\n",
       "      <td>Edson Ribeiro</td>\n",
       "      <td>27.0</td>\n",
       "      <td>Brazil</td>\n",
       "      <td>2000</td>\n",
       "      <td>10-01-2000</td>\n",
       "      <td>Athletics</td>\n",
       "      <td>0</td>\n",
       "      <td>1</td>\n",
       "      <td>0</td>\n",
       "      <td>1</td>\n",
       "    </tr>\n",
       "    <tr>\n",
       "      <th>8480</th>\n",
       "      <td>Cláudio Sousa</td>\n",
       "      <td>26.0</td>\n",
       "      <td>Brazil</td>\n",
       "      <td>2000</td>\n",
       "      <td>10-01-2000</td>\n",
       "      <td>Athletics</td>\n",
       "      <td>0</td>\n",
       "      <td>1</td>\n",
       "      <td>0</td>\n",
       "      <td>1</td>\n",
       "    </tr>\n",
       "  </tbody>\n",
       "</table>\n",
       "<p>218 rows × 10 columns</p>\n",
       "</div>"
      ],
      "text/plain": [
       "                    name   age country  year  Date_Given      sports  \\\n",
       "222    César Cielo Filho  21.0  Brazil  2008   8/24/2008    Swimming   \n",
       "1428             unknown   NaN  Brazil  2012  08-12-2012  Volleyball   \n",
       "1432        Thiago Alves  26.0  Brazil  2012  08-12-2012  Volleyball   \n",
       "1441     Tandara Caixeta  23.0  Brazil  2012  08-12-2012  Volleyball   \n",
       "1442   Adenízia da Silva  25.0  Brazil  2012  08-12-2012  Volleyball   \n",
       "...                  ...   ...     ...   ...         ...         ...   \n",
       "8371      André da Silva  27.0  Brazil  2000  10-01-2000   Athletics   \n",
       "8372  Claudinei da Silva  29.0  Brazil  2000  10-01-2000   Athletics   \n",
       "8427        Vicente Lima  23.0  Brazil  2000  10-01-2000   Athletics   \n",
       "8462       Edson Ribeiro  27.0  Brazil  2000  10-01-2000   Athletics   \n",
       "8480       Cláudio Sousa  26.0  Brazil  2000  10-01-2000   Athletics   \n",
       "\n",
       "      gold_medal  silver_medal  brone_medal  total_medal  \n",
       "222            1             0            1            2  \n",
       "1428           0             1            0            1  \n",
       "1432           0             1            0            1  \n",
       "1441           1             0            0            1  \n",
       "1442           1             0            0            1  \n",
       "...          ...           ...          ...          ...  \n",
       "8371           0             1            0            1  \n",
       "8372           0             1            0            1  \n",
       "8427           0             1            0            1  \n",
       "8462           0             1            0            1  \n",
       "8480           0             1            0            1  \n",
       "\n",
       "[218 rows x 10 columns]"
      ]
     },
     "execution_count": 88,
     "metadata": {},
     "output_type": "execute_result"
    }
   ],
   "source": [
    "df_brazil = df[df[\"country\"]==\"Brazil\"]         #dataset having country as Brazil only\n",
    "df_brazil"
   ]
  },
  {
   "cell_type": "code",
   "execution_count": 89,
   "id": "00164e5e",
   "metadata": {},
   "outputs": [
    {
     "data": {
      "text/plain": [
       "age    26.520737\n",
       "dtype: float64"
      ]
     },
     "execution_count": 89,
     "metadata": {},
     "output_type": "execute_result"
    }
   ],
   "source": [
    "df_brazil[['age']].mean()"
   ]
  },
  {
   "cell_type": "code",
   "execution_count": 90,
   "id": "187e8b3c",
   "metadata": {},
   "outputs": [
    {
     "data": {
      "text/html": [
       "<div>\n",
       "<style scoped>\n",
       "    .dataframe tbody tr th:only-of-type {\n",
       "        vertical-align: middle;\n",
       "    }\n",
       "\n",
       "    .dataframe tbody tr th {\n",
       "        vertical-align: top;\n",
       "    }\n",
       "\n",
       "    .dataframe thead th {\n",
       "        text-align: right;\n",
       "    }\n",
       "</style>\n",
       "<table border=\"1\" class=\"dataframe\">\n",
       "  <thead>\n",
       "    <tr style=\"text-align: right;\">\n",
       "      <th></th>\n",
       "      <th>name</th>\n",
       "      <th>age</th>\n",
       "      <th>country</th>\n",
       "      <th>year</th>\n",
       "      <th>Date_Given</th>\n",
       "      <th>sports</th>\n",
       "      <th>gold_medal</th>\n",
       "      <th>silver_medal</th>\n",
       "      <th>brone_medal</th>\n",
       "      <th>total_medal</th>\n",
       "    </tr>\n",
       "  </thead>\n",
       "  <tbody>\n",
       "    <tr>\n",
       "      <th>1808</th>\n",
       "      <td>Sebastian Crismanich</td>\n",
       "      <td>25.0</td>\n",
       "      <td>Argentina</td>\n",
       "      <td>2012</td>\n",
       "      <td>08-12-2012</td>\n",
       "      <td>Taekwondo</td>\n",
       "      <td>1</td>\n",
       "      <td>0</td>\n",
       "      <td>0</td>\n",
       "      <td>1</td>\n",
       "    </tr>\n",
       "    <tr>\n",
       "      <th>1921</th>\n",
       "      <td>Juan Martín del Potro</td>\n",
       "      <td>23.0</td>\n",
       "      <td>Argentina</td>\n",
       "      <td>2012</td>\n",
       "      <td>08-12-2012</td>\n",
       "      <td>Tennis</td>\n",
       "      <td>0</td>\n",
       "      <td>0</td>\n",
       "      <td>1</td>\n",
       "      <td>1</td>\n",
       "    </tr>\n",
       "    <tr>\n",
       "      <th>1964</th>\n",
       "      <td>Paola Suárez</td>\n",
       "      <td>28.0</td>\n",
       "      <td>Argentina</td>\n",
       "      <td>2004</td>\n",
       "      <td>8/29/2004</td>\n",
       "      <td>Tennis</td>\n",
       "      <td>0</td>\n",
       "      <td>0</td>\n",
       "      <td>1</td>\n",
       "      <td>1</td>\n",
       "    </tr>\n",
       "    <tr>\n",
       "      <th>1966</th>\n",
       "      <td>Patricia Tarabini</td>\n",
       "      <td>36.0</td>\n",
       "      <td>Argentina</td>\n",
       "      <td>2004</td>\n",
       "      <td>8/29/2004</td>\n",
       "      <td>Tennis</td>\n",
       "      <td>0</td>\n",
       "      <td>0</td>\n",
       "      <td>1</td>\n",
       "      <td>1</td>\n",
       "    </tr>\n",
       "    <tr>\n",
       "      <th>2238</th>\n",
       "      <td>Georgina Bardach</td>\n",
       "      <td>20.0</td>\n",
       "      <td>Argentina</td>\n",
       "      <td>2004</td>\n",
       "      <td>8/29/2004</td>\n",
       "      <td>Swimming</td>\n",
       "      <td>0</td>\n",
       "      <td>0</td>\n",
       "      <td>1</td>\n",
       "      <td>1</td>\n",
       "    </tr>\n",
       "    <tr>\n",
       "      <th>...</th>\n",
       "      <td>...</td>\n",
       "      <td>...</td>\n",
       "      <td>...</td>\n",
       "      <td>...</td>\n",
       "      <td>...</td>\n",
       "      <td>...</td>\n",
       "      <td>...</td>\n",
       "      <td>...</td>\n",
       "      <td>...</td>\n",
       "      <td>...</td>\n",
       "    </tr>\n",
       "    <tr>\n",
       "      <th>7691</th>\n",
       "      <td>Fabricio Oberto</td>\n",
       "      <td>31.0</td>\n",
       "      <td>Argentina</td>\n",
       "      <td>2004</td>\n",
       "      <td>8/29/2004</td>\n",
       "      <td>Basketball</td>\n",
       "      <td>1</td>\n",
       "      <td>0</td>\n",
       "      <td>0</td>\n",
       "      <td>1</td>\n",
       "    </tr>\n",
       "    <tr>\n",
       "      <th>7703</th>\n",
       "      <td>Pepe Sánchez</td>\n",
       "      <td>27.0</td>\n",
       "      <td>Argentina</td>\n",
       "      <td>2004</td>\n",
       "      <td>8/29/2004</td>\n",
       "      <td>Basketball</td>\n",
       "      <td>1</td>\n",
       "      <td>0</td>\n",
       "      <td>0</td>\n",
       "      <td>1</td>\n",
       "    </tr>\n",
       "    <tr>\n",
       "      <th>7704</th>\n",
       "      <td>Luis Scola</td>\n",
       "      <td>24.0</td>\n",
       "      <td>Argentina</td>\n",
       "      <td>2004</td>\n",
       "      <td>8/29/2004</td>\n",
       "      <td>Basketball</td>\n",
       "      <td>1</td>\n",
       "      <td>0</td>\n",
       "      <td>0</td>\n",
       "      <td>1</td>\n",
       "    </tr>\n",
       "    <tr>\n",
       "      <th>7705</th>\n",
       "      <td>Hugo Ariel Sconochini</td>\n",
       "      <td>33.0</td>\n",
       "      <td>Argentina</td>\n",
       "      <td>2004</td>\n",
       "      <td>8/29/2004</td>\n",
       "      <td>Basketball</td>\n",
       "      <td>1</td>\n",
       "      <td>0</td>\n",
       "      <td>0</td>\n",
       "      <td>1</td>\n",
       "    </tr>\n",
       "    <tr>\n",
       "      <th>7721</th>\n",
       "      <td>Rubén Wolkowyski</td>\n",
       "      <td>30.0</td>\n",
       "      <td>Argentina</td>\n",
       "      <td>2004</td>\n",
       "      <td>8/29/2004</td>\n",
       "      <td>Basketball</td>\n",
       "      <td>1</td>\n",
       "      <td>0</td>\n",
       "      <td>0</td>\n",
       "      <td>1</td>\n",
       "    </tr>\n",
       "  </tbody>\n",
       "</table>\n",
       "<p>140 rows × 10 columns</p>\n",
       "</div>"
      ],
      "text/plain": [
       "                       name   age    country  year  Date_Given      sports  \\\n",
       "1808   Sebastian Crismanich  25.0  Argentina  2012  08-12-2012   Taekwondo   \n",
       "1921  Juan Martín del Potro  23.0  Argentina  2012  08-12-2012      Tennis   \n",
       "1964           Paola Suárez  28.0  Argentina  2004   8/29/2004      Tennis   \n",
       "1966      Patricia Tarabini  36.0  Argentina  2004   8/29/2004      Tennis   \n",
       "2238       Georgina Bardach  20.0  Argentina  2004   8/29/2004    Swimming   \n",
       "...                     ...   ...        ...   ...         ...         ...   \n",
       "7691        Fabricio Oberto  31.0  Argentina  2004   8/29/2004  Basketball   \n",
       "7703           Pepe Sánchez  27.0  Argentina  2004   8/29/2004  Basketball   \n",
       "7704             Luis Scola  24.0  Argentina  2004   8/29/2004  Basketball   \n",
       "7705  Hugo Ariel Sconochini  33.0  Argentina  2004   8/29/2004  Basketball   \n",
       "7721       Rubén Wolkowyski  30.0  Argentina  2004   8/29/2004  Basketball   \n",
       "\n",
       "      gold_medal  silver_medal  brone_medal  total_medal  \n",
       "1808           1             0            0            1  \n",
       "1921           0             0            1            1  \n",
       "1964           0             0            1            1  \n",
       "1966           0             0            1            1  \n",
       "2238           0             0            1            1  \n",
       "...          ...           ...          ...          ...  \n",
       "7691           1             0            0            1  \n",
       "7703           1             0            0            1  \n",
       "7704           1             0            0            1  \n",
       "7705           1             0            0            1  \n",
       "7721           1             0            0            1  \n",
       "\n",
       "[140 rows x 10 columns]"
      ]
     },
     "execution_count": 90,
     "metadata": {},
     "output_type": "execute_result"
    }
   ],
   "source": [
    "df_argentina = df[df[\"country\"]==\"Argentina\"]              #dataset having country as Argentina only\n",
    "df_argentina"
   ]
  },
  {
   "cell_type": "code",
   "execution_count": 91,
   "id": "e69d2795",
   "metadata": {},
   "outputs": [
    {
     "data": {
      "text/plain": [
       "age    26.345324\n",
       "dtype: float64"
      ]
     },
     "execution_count": 91,
     "metadata": {},
     "output_type": "execute_result"
    }
   ],
   "source": [
    "df_argentina[[\"age\"]].mean()"
   ]
  },
  {
   "cell_type": "code",
   "execution_count": 92,
   "id": "2bc166cc",
   "metadata": {},
   "outputs": [
    {
     "data": {
      "text/plain": [
       "age    26.405434\n",
       "dtype: float64"
      ]
     },
     "execution_count": 92,
     "metadata": {},
     "output_type": "execute_result"
    }
   ],
   "source": [
    "df[['age']].mean()"
   ]
  },
  {
   "cell_type": "markdown",
   "id": "5ff34b44",
   "metadata": {},
   "source": [
    "But after finding mean ages for Brazil, and Argentina, we can see that it is almost equal. Also they are equal to mean age for whole dataset. **Therefore we will fill NaN values in age column with mean age which is 26.** "
   ]
  },
  {
   "cell_type": "code",
   "execution_count": 93,
   "id": "c678b382",
   "metadata": {},
   "outputs": [
    {
     "data": {
      "text/html": [
       "<div>\n",
       "<style scoped>\n",
       "    .dataframe tbody tr th:only-of-type {\n",
       "        vertical-align: middle;\n",
       "    }\n",
       "\n",
       "    .dataframe tbody tr th {\n",
       "        vertical-align: top;\n",
       "    }\n",
       "\n",
       "    .dataframe thead th {\n",
       "        text-align: right;\n",
       "    }\n",
       "</style>\n",
       "<table border=\"1\" class=\"dataframe\">\n",
       "  <thead>\n",
       "    <tr style=\"text-align: right;\">\n",
       "      <th></th>\n",
       "      <th>name</th>\n",
       "      <th>age</th>\n",
       "      <th>country</th>\n",
       "      <th>year</th>\n",
       "      <th>Date_Given</th>\n",
       "      <th>sports</th>\n",
       "      <th>gold_medal</th>\n",
       "      <th>silver_medal</th>\n",
       "      <th>brone_medal</th>\n",
       "      <th>total_medal</th>\n",
       "    </tr>\n",
       "  </thead>\n",
       "  <tbody>\n",
       "    <tr>\n",
       "      <th>1428</th>\n",
       "      <td>unknown</td>\n",
       "      <td>26.0</td>\n",
       "      <td>Brazil</td>\n",
       "      <td>2012</td>\n",
       "      <td>08-12-2012</td>\n",
       "      <td>Volleyball</td>\n",
       "      <td>0</td>\n",
       "      <td>1</td>\n",
       "      <td>0</td>\n",
       "      <td>1</td>\n",
       "    </tr>\n",
       "    <tr>\n",
       "      <th>4485</th>\n",
       "      <td>unknown</td>\n",
       "      <td>26.0</td>\n",
       "      <td>Argentina</td>\n",
       "      <td>2012</td>\n",
       "      <td>08-12-2012</td>\n",
       "      <td>Hockey</td>\n",
       "      <td>0</td>\n",
       "      <td>1</td>\n",
       "      <td>0</td>\n",
       "      <td>1</td>\n",
       "    </tr>\n",
       "  </tbody>\n",
       "</table>\n",
       "</div>"
      ],
      "text/plain": [
       "         name   age    country  year  Date_Given      sports  gold_medal  \\\n",
       "1428  unknown  26.0     Brazil  2012  08-12-2012  Volleyball           0   \n",
       "4485  unknown  26.0  Argentina  2012  08-12-2012      Hockey           0   \n",
       "\n",
       "      silver_medal  brone_medal  total_medal  \n",
       "1428             1            0            1  \n",
       "4485             1            0            1  "
      ]
     },
     "execution_count": 93,
     "metadata": {},
     "output_type": "execute_result"
    }
   ],
   "source": [
    "df['age'].fillna(26, inplace =True)\n",
    "df.iloc[[1428,4483]]"
   ]
  },
  {
   "cell_type": "markdown",
   "id": "3d487cfe",
   "metadata": {
    "scrolled": true
   },
   "source": [
    "**The NaN values in the age column has been successfully filled by 26.**"
   ]
  },
  {
   "cell_type": "markdown",
   "id": "2580687d",
   "metadata": {},
   "source": [
    "### To remove special characters from the Column name\n",
    "\n",
    "We will use Regex to remove special characters from the column name, we will first create function and later it will apply on the column. And later replace newly created column. After that we can drop the resultCol from our dataset."
   ]
  },
  {
   "cell_type": "code",
   "execution_count": 94,
   "id": "53d62544",
   "metadata": {},
   "outputs": [
    {
     "data": {
      "text/html": [
       "<div>\n",
       "<style scoped>\n",
       "    .dataframe tbody tr th:only-of-type {\n",
       "        vertical-align: middle;\n",
       "    }\n",
       "\n",
       "    .dataframe tbody tr th {\n",
       "        vertical-align: top;\n",
       "    }\n",
       "\n",
       "    .dataframe thead th {\n",
       "        text-align: right;\n",
       "    }\n",
       "</style>\n",
       "<table border=\"1\" class=\"dataframe\">\n",
       "  <thead>\n",
       "    <tr style=\"text-align: right;\">\n",
       "      <th></th>\n",
       "      <th>name</th>\n",
       "      <th>age</th>\n",
       "      <th>country</th>\n",
       "      <th>year</th>\n",
       "      <th>Date_Given</th>\n",
       "      <th>sports</th>\n",
       "      <th>gold_medal</th>\n",
       "      <th>silver_medal</th>\n",
       "      <th>brone_medal</th>\n",
       "      <th>total_medal</th>\n",
       "      <th>resultCol</th>\n",
       "    </tr>\n",
       "  </thead>\n",
       "  <tbody>\n",
       "    <tr>\n",
       "      <th>14</th>\n",
       "      <td>Marit Bjørgen</td>\n",
       "      <td>29.0</td>\n",
       "      <td>Norway</td>\n",
       "      <td>2010</td>\n",
       "      <td>2/28/2010</td>\n",
       "      <td>Cross Country Skiing</td>\n",
       "      <td>3</td>\n",
       "      <td>1</td>\n",
       "      <td>1</td>\n",
       "      <td>5</td>\n",
       "      <td>Marit Bjrgen</td>\n",
       "    </tr>\n",
       "    <tr>\n",
       "      <th>50</th>\n",
       "      <td>László Cseh Jr.</td>\n",
       "      <td>22.0</td>\n",
       "      <td>Hungary</td>\n",
       "      <td>2008</td>\n",
       "      <td>8/24/2008</td>\n",
       "      <td>Swimming</td>\n",
       "      <td>0</td>\n",
       "      <td>3</td>\n",
       "      <td>0</td>\n",
       "      <td>3</td>\n",
       "      <td>Lszl Cseh Jr.</td>\n",
       "    </tr>\n",
       "  </tbody>\n",
       "</table>\n",
       "</div>"
      ],
      "text/plain": [
       "               name   age  country  year Date_Given                sports  \\\n",
       "14    Marit Bjørgen  29.0   Norway  2010  2/28/2010  Cross Country Skiing   \n",
       "50  László Cseh Jr.  22.0  Hungary  2008  8/24/2008              Swimming   \n",
       "\n",
       "    gold_medal  silver_medal  brone_medal  total_medal      resultCol  \n",
       "14           3             1            1            5   Marit Bjrgen  \n",
       "50           0             3            0            3  Lszl Cseh Jr.  "
      ]
     },
     "execution_count": 94,
     "metadata": {},
     "output_type": "execute_result"
    }
   ],
   "source": [
    "import re          #importing regex\n",
    "\n",
    "def strip_char(column):                   #defining a function to remove special charters from a column\n",
    "    r = re.compile(r'[^a-zA-Z !@#$%&*_+-=|\\:\";<>,./()[\\]{}\\']')\n",
    "    return r.sub('', column)\n",
    "\n",
    "df['resultCol'] = df['name'].apply(strip_char)   #applying function strip_char over a column name\n",
    "        \n",
    "df.iloc[[14,50]]         #checking if the speciqal characters have been removed from the name collumn or not in resultCol"
   ]
  },
  {
   "cell_type": "code",
   "execution_count": 95,
   "id": "0b122428",
   "metadata": {},
   "outputs": [
    {
     "data": {
      "text/html": [
       "<div>\n",
       "<style scoped>\n",
       "    .dataframe tbody tr th:only-of-type {\n",
       "        vertical-align: middle;\n",
       "    }\n",
       "\n",
       "    .dataframe tbody tr th {\n",
       "        vertical-align: top;\n",
       "    }\n",
       "\n",
       "    .dataframe thead th {\n",
       "        text-align: right;\n",
       "    }\n",
       "</style>\n",
       "<table border=\"1\" class=\"dataframe\">\n",
       "  <thead>\n",
       "    <tr style=\"text-align: right;\">\n",
       "      <th></th>\n",
       "      <th>name</th>\n",
       "      <th>age</th>\n",
       "      <th>country</th>\n",
       "      <th>year</th>\n",
       "      <th>Date_Given</th>\n",
       "      <th>sports</th>\n",
       "      <th>gold_medal</th>\n",
       "      <th>silver_medal</th>\n",
       "      <th>brone_medal</th>\n",
       "      <th>total_medal</th>\n",
       "      <th>resultCol</th>\n",
       "    </tr>\n",
       "  </thead>\n",
       "  <tbody>\n",
       "    <tr>\n",
       "      <th>14</th>\n",
       "      <td>Marit Bjrgen</td>\n",
       "      <td>29.0</td>\n",
       "      <td>Norway</td>\n",
       "      <td>2010</td>\n",
       "      <td>2/28/2010</td>\n",
       "      <td>Cross Country Skiing</td>\n",
       "      <td>3</td>\n",
       "      <td>1</td>\n",
       "      <td>1</td>\n",
       "      <td>5</td>\n",
       "      <td>Marit Bjrgen</td>\n",
       "    </tr>\n",
       "    <tr>\n",
       "      <th>50</th>\n",
       "      <td>Lszl Cseh Jr.</td>\n",
       "      <td>22.0</td>\n",
       "      <td>Hungary</td>\n",
       "      <td>2008</td>\n",
       "      <td>8/24/2008</td>\n",
       "      <td>Swimming</td>\n",
       "      <td>0</td>\n",
       "      <td>3</td>\n",
       "      <td>0</td>\n",
       "      <td>3</td>\n",
       "      <td>Lszl Cseh Jr.</td>\n",
       "    </tr>\n",
       "  </tbody>\n",
       "</table>\n",
       "</div>"
      ],
      "text/plain": [
       "             name   age  country  year Date_Given                sports  \\\n",
       "14   Marit Bjrgen  29.0   Norway  2010  2/28/2010  Cross Country Skiing   \n",
       "50  Lszl Cseh Jr.  22.0  Hungary  2008  8/24/2008              Swimming   \n",
       "\n",
       "    gold_medal  silver_medal  brone_medal  total_medal      resultCol  \n",
       "14           3             1            1            5   Marit Bjrgen  \n",
       "50           0             3            0            3  Lszl Cseh Jr.  "
      ]
     },
     "execution_count": 95,
     "metadata": {},
     "output_type": "execute_result"
    }
   ],
   "source": [
    "df['name'] = df['resultCol']               #replacing resultCol with name column\n",
    "df.iloc[[14,50]]"
   ]
  },
  {
   "cell_type": "code",
   "execution_count": 66,
   "id": "6a9c0467",
   "metadata": {},
   "outputs": [],
   "source": [
    "df.drop(['resultCol'], axis=1, inplace=True)              #to drop column resultCol"
   ]
  },
  {
   "cell_type": "code",
   "execution_count": 67,
   "id": "70be4bdd",
   "metadata": {},
   "outputs": [
    {
     "data": {
      "text/html": [
       "<div>\n",
       "<style scoped>\n",
       "    .dataframe tbody tr th:only-of-type {\n",
       "        vertical-align: middle;\n",
       "    }\n",
       "\n",
       "    .dataframe tbody tr th {\n",
       "        vertical-align: top;\n",
       "    }\n",
       "\n",
       "    .dataframe thead th {\n",
       "        text-align: right;\n",
       "    }\n",
       "</style>\n",
       "<table border=\"1\" class=\"dataframe\">\n",
       "  <thead>\n",
       "    <tr style=\"text-align: right;\">\n",
       "      <th></th>\n",
       "      <th>name</th>\n",
       "      <th>age</th>\n",
       "      <th>country</th>\n",
       "      <th>year</th>\n",
       "      <th>Date_Given</th>\n",
       "      <th>sports</th>\n",
       "      <th>gold_medal</th>\n",
       "      <th>silver_medal</th>\n",
       "      <th>brone_medal</th>\n",
       "      <th>total_medal</th>\n",
       "    </tr>\n",
       "  </thead>\n",
       "  <tbody>\n",
       "    <tr>\n",
       "      <th>14</th>\n",
       "      <td>Marit Bjrgen</td>\n",
       "      <td>29.0</td>\n",
       "      <td>Norway</td>\n",
       "      <td>2010</td>\n",
       "      <td>2/28/2010</td>\n",
       "      <td>Cross Country Skiing</td>\n",
       "      <td>3</td>\n",
       "      <td>1</td>\n",
       "      <td>1</td>\n",
       "      <td>5</td>\n",
       "    </tr>\n",
       "    <tr>\n",
       "      <th>50</th>\n",
       "      <td>Lszl Cseh Jr.</td>\n",
       "      <td>22.0</td>\n",
       "      <td>Hungary</td>\n",
       "      <td>2008</td>\n",
       "      <td>8/24/2008</td>\n",
       "      <td>Swimming</td>\n",
       "      <td>0</td>\n",
       "      <td>3</td>\n",
       "      <td>0</td>\n",
       "      <td>3</td>\n",
       "    </tr>\n",
       "  </tbody>\n",
       "</table>\n",
       "</div>"
      ],
      "text/plain": [
       "             name   age  country  year Date_Given                sports  \\\n",
       "14   Marit Bjrgen  29.0   Norway  2010  2/28/2010  Cross Country Skiing   \n",
       "50  Lszl Cseh Jr.  22.0  Hungary  2008  8/24/2008              Swimming   \n",
       "\n",
       "    gold_medal  silver_medal  brone_medal  total_medal  \n",
       "14           3             1            1            5  \n",
       "50           0             3            0            3  "
      ]
     },
     "execution_count": 67,
     "metadata": {},
     "output_type": "execute_result"
    }
   ],
   "source": [
    "df.iloc[[14,50]]           #to check if column resultCol has been dropped or not"
   ]
  },
  {
   "cell_type": "markdown",
   "id": "d7a20814",
   "metadata": {},
   "source": [
    "### To save cleaned csv file to the system\n",
    "\n",
    "Now we will save this cleaned dataset to our system using df_to_csv to the path we will provide as olympic_data.csv. Later we can use this csv file for our pyspark project section."
   ]
  },
  {
   "cell_type": "code",
   "execution_count": 70,
   "id": "e1ffac7a",
   "metadata": {},
   "outputs": [],
   "source": [
    "df.to_csv(r'C:\\Users\\Anjii\\Downloads\\olympic_data.csv', index = False)"
   ]
  },
  {
   "cell_type": "markdown",
   "id": "d282f61b",
   "metadata": {},
   "source": [
    "We have successfully stored csv file on given location"
   ]
  },
  {
   "cell_type": "markdown",
   "id": "a3c8fc1f",
   "metadata": {},
   "source": [
    "### Data Visualisation\n",
    "\n",
    "Data visualization is an important aspect, as we can gain key insights into our data through different graphical representations. It will help in making statistic analysis easy and comprehensive. We will use different **libraries like matplotlib, seaborn, and numpy** to plot graphs and represnt our data visually.\n",
    "\n",
    "We will plot histplot maxtrix first, as it shows distribution of a numeric variable's values as a series of bars for all numeric variables present. "
   ]
  },
  {
   "cell_type": "code",
   "execution_count": 24,
   "id": "07a7ed76",
   "metadata": {},
   "outputs": [
    {
     "data": {
      "image/png": "[encoded data removed]",
      "text/plain": [
       "<Figure size 720x1080 with 6 Axes>"
      ]
     },
     "metadata": {
      "needs_background": "light"
     },
     "output_type": "display_data"
    }
   ],
   "source": [
    "%matplotlib inline\n",
    "df.hist(bins=50, figsize=(10, 15),facecolor='y')\n",
    "plt.show()"
   ]
  },
  {
   "cell_type": "markdown",
   "id": "852201b1",
   "metadata": {},
   "source": [
    "From above histplot we can see,\n",
    "\n",
    "• Deviation of the age data, which is right skewed.\n",
    "\n",
    "• For year column, we can see the count of athelets for different year.\n",
    "\n",
    "• For gold_medal, silver_medal, bronze_medal, and total_medal is plotted number of medals vs count of athletes having it.\n",
    "\n",
    "\n",
    "### To check the correlation of the all numerical type data column\n",
    "\n",
    "Correlation is a **statistical measure** which expresses the **extent to which two variables are linearly related** with each other. We will use heatmap plot from seaborn library for visualized pairwise correlation of all columns in the dataframe."
   ]
  },
  {
   "cell_type": "code",
   "execution_count": 25,
   "id": "68482c8c",
   "metadata": {},
   "outputs": [
    {
     "data": {
      "image/png": "[encoded data removed]",
      "text/plain": [
       "<Figure size 432x288 with 2 Axes>"
      ]
     },
     "metadata": {
      "needs_background": "light"
     },
     "output_type": "display_data"
    }
   ],
   "source": [
    "sns.heatmap(df.corr(), annot=True)\n",
    "plt.show()"
   ]
  },
  {
   "cell_type": "markdown",
   "id": "48a2e7d8",
   "metadata": {},
   "source": [
    "**The darker color in heatmap represnts lower value and lighter color represent higher value of correlation.**\n",
    "\n",
    "Interpreting the value of correlation coefficient as follws:\n",
    "\n",
    "**0.9 to 1 positive or negative indicates a very strong correlation**.\n",
    "\n",
    "**0.7 to 0.9 positive or negative indicates a strong correlation**.\n",
    "\n",
    "**0.5 to 0.7 positive or negative indicates a moderate correlation**.\n",
    "\n",
    "**0.3 to 0.5 positive or negative indicates a weak correlation**.\n",
    "\n",
    "**0 to 0.3 positive or negative indicates a negligible correlation**."
   ]
  },
  {
   "cell_type": "markdown",
   "id": "045c885c",
   "metadata": {},
   "source": [
    "### Using pairplot to check the relationship between all variables present in the dataset\n",
    "\n",
    "This function will create a grid of Axes such that each numeric variable in data. We can check for the pairwise repationships among variables. The diagonal subplots are the univariate histograms. \n",
    "\n"
   ]
  },
  {
   "cell_type": "code",
   "execution_count": 81,
   "id": "1b72c3a3",
   "metadata": {
    "scrolled": true
   },
   "outputs": [
    {
     "data": {
      "image/png": "[encoded data removed]",
      "text/plain": [
       "<Figure size 1080x1080 with 42 Axes>"
      ]
     },
     "metadata": {
      "needs_background": "light"
     },
     "output_type": "display_data"
    }
   ],
   "source": [
    "sns.pairplot(df,diag_kind='kde')         #Using pairplot to check the relationships\n",
    "plt.show()"
   ]
  },
  {
   "cell_type": "code",
   "execution_count": 118,
   "id": "a89742e0",
   "metadata": {},
   "outputs": [
    {
     "data": {
      "image/png": "[encoded data removed]",
      "text/plain": [
       "<Figure size 432x288 with 1 Axes>"
      ]
     },
     "metadata": {
      "needs_background": "light"
     },
     "output_type": "display_data"
    }
   ],
   "source": [
    "\n",
    "plt.hist(df.age,bins=np.arange(10,80,2), edgecolor=\"white\")\n",
    "plt.xlabel(\"age\")\n",
    "plt.ylabel(\"no. of paricipants\")\n",
    "plt.title(\"Age Distribution of participants\")\n",
    "plt.show()"
   ]
  },
  {
   "cell_type": "markdown",
   "id": "d7265912",
   "metadata": {},
   "source": [
    "### To check if 'age' column of dataset is skewed or symmetric \n",
    "\n",
    "To find out if the age data is skewed or not we have to histplot using seaborn library."
   ]
  },
  {
   "cell_type": "code",
   "execution_count": 85,
   "id": "6e5b280f",
   "metadata": {
    "scrolled": true
   },
   "outputs": [
    {
     "data": {
      "image/png": "[encoded data removed]",
      "text/plain": [
       "<Figure size 432x288 with 1 Axes>"
      ]
     },
     "metadata": {
      "needs_background": "light"
     },
     "output_type": "display_data"
    }
   ],
   "source": [
    "sns.histplot(df['age'],color=\"dodgerblue\", kde = True)\n",
    "plt.title('Skewness before the Sqaure Root Transformation')\n",
    "plt.show()"
   ]
  },
  {
   "cell_type": "markdown",
   "id": "59c06266",
   "metadata": {},
   "source": [
    "### From above we can see that age column is right skewed or positively skewed, which also means that the large part of the values in the column age lies in the left side of the graph."
   ]
  },
  {
   "cell_type": "code",
   "execution_count": 86,
   "id": "15d56b33",
   "metadata": {},
   "outputs": [
    {
     "data": {
      "text/plain": [
       "0.8591601167892493"
      ]
     },
     "execution_count": 86,
     "metadata": {},
     "output_type": "execute_result"
    }
   ],
   "source": [
    "df['age'].skew()"
   ]
  },
  {
   "cell_type": "markdown",
   "id": "256423a6",
   "metadata": {},
   "source": [
    "Skewness can be categorised as following:\n",
    "\n",
    "• If the skewness is in between -0.5 and 0.5, the data is fairly symmetrical.\n",
    "\n",
    "• If the skewness is in between -1 and — 0.5 or between 0.5 and 1, the data is moderately skewed.\n",
    "\n",
    "• If the skewness is in less than -1 or greater than 1, the data is highly skewed.\n",
    "\n",
    "**From above we can say 'age' column is moderately right skewed.**"
   ]
  },
  {
   "cell_type": "markdown",
   "id": "3c9de1fc",
   "metadata": {},
   "source": [
    "### **Performing the Sqaure Root Transformation to fix the skewness of 'age' column**\n",
    "\n",
    "We need to perform data transformations for some distorted or skewed data in our datadet as skewed data will affect the model’s performance. For transformation we are using Square Root method. It is typically used when the data is moderately skewed. \n",
    "\n",
    "We will be creating new dataframe 'df_agesqrt' having our data 'df', as we don't want to make changes in original dataframe. After that we will add a new column name 'age_sqrt' which contains square root of column 'age'. We can use this newly created column instead of age column for modeling purpose."
   ]
  },
  {
   "cell_type": "code",
   "execution_count": 87,
   "id": "a881c238",
   "metadata": {},
   "outputs": [
    {
     "data": {
      "text/html": [
       "<div>\n",
       "<style scoped>\n",
       "    .dataframe tbody tr th:only-of-type {\n",
       "        vertical-align: middle;\n",
       "    }\n",
       "\n",
       "    .dataframe tbody tr th {\n",
       "        vertical-align: top;\n",
       "    }\n",
       "\n",
       "    .dataframe thead th {\n",
       "        text-align: right;\n",
       "    }\n",
       "</style>\n",
       "<table border=\"1\" class=\"dataframe\">\n",
       "  <thead>\n",
       "    <tr style=\"text-align: right;\">\n",
       "      <th></th>\n",
       "      <th>name</th>\n",
       "      <th>age</th>\n",
       "      <th>country</th>\n",
       "      <th>year</th>\n",
       "      <th>Date_Given</th>\n",
       "      <th>sports</th>\n",
       "      <th>gold_medal</th>\n",
       "      <th>silver_medal</th>\n",
       "      <th>brone_medal</th>\n",
       "      <th>total_medal</th>\n",
       "      <th>age_sqrt</th>\n",
       "    </tr>\n",
       "  </thead>\n",
       "  <tbody>\n",
       "    <tr>\n",
       "      <th>0</th>\n",
       "      <td>Michael Phelps</td>\n",
       "      <td>23.0</td>\n",
       "      <td>United States</td>\n",
       "      <td>2008</td>\n",
       "      <td>8/24/2008</td>\n",
       "      <td>Swimming</td>\n",
       "      <td>8</td>\n",
       "      <td>0</td>\n",
       "      <td>0</td>\n",
       "      <td>8</td>\n",
       "      <td>4.795832</td>\n",
       "    </tr>\n",
       "    <tr>\n",
       "      <th>1</th>\n",
       "      <td>Michael Phelps</td>\n",
       "      <td>19.0</td>\n",
       "      <td>United States</td>\n",
       "      <td>2004</td>\n",
       "      <td>8/29/2004</td>\n",
       "      <td>Swimming</td>\n",
       "      <td>6</td>\n",
       "      <td>0</td>\n",
       "      <td>2</td>\n",
       "      <td>8</td>\n",
       "      <td>4.358899</td>\n",
       "    </tr>\n",
       "    <tr>\n",
       "      <th>2</th>\n",
       "      <td>Michael Phelps</td>\n",
       "      <td>27.0</td>\n",
       "      <td>United States</td>\n",
       "      <td>2012</td>\n",
       "      <td>08-12-2012</td>\n",
       "      <td>Swimming</td>\n",
       "      <td>4</td>\n",
       "      <td>2</td>\n",
       "      <td>0</td>\n",
       "      <td>6</td>\n",
       "      <td>5.196152</td>\n",
       "    </tr>\n",
       "    <tr>\n",
       "      <th>3</th>\n",
       "      <td>Natalie Coughlin</td>\n",
       "      <td>25.0</td>\n",
       "      <td>United States</td>\n",
       "      <td>2008</td>\n",
       "      <td>8/24/2008</td>\n",
       "      <td>Swimming</td>\n",
       "      <td>1</td>\n",
       "      <td>2</td>\n",
       "      <td>3</td>\n",
       "      <td>6</td>\n",
       "      <td>5.000000</td>\n",
       "    </tr>\n",
       "    <tr>\n",
       "      <th>4</th>\n",
       "      <td>Aleksey Nemov</td>\n",
       "      <td>24.0</td>\n",
       "      <td>Russia</td>\n",
       "      <td>2000</td>\n",
       "      <td>10-01-2000</td>\n",
       "      <td>Gymnastics</td>\n",
       "      <td>2</td>\n",
       "      <td>1</td>\n",
       "      <td>3</td>\n",
       "      <td>6</td>\n",
       "      <td>4.898979</td>\n",
       "    </tr>\n",
       "    <tr>\n",
       "      <th>...</th>\n",
       "      <td>...</td>\n",
       "      <td>...</td>\n",
       "      <td>...</td>\n",
       "      <td>...</td>\n",
       "      <td>...</td>\n",
       "      <td>...</td>\n",
       "      <td>...</td>\n",
       "      <td>...</td>\n",
       "      <td>...</td>\n",
       "      <td>...</td>\n",
       "      <td>...</td>\n",
       "    </tr>\n",
       "    <tr>\n",
       "      <th>8613</th>\n",
       "      <td>Olena Sadovnycha</td>\n",
       "      <td>32.0</td>\n",
       "      <td>Ukraine</td>\n",
       "      <td>2000</td>\n",
       "      <td>10-01-2000</td>\n",
       "      <td>Archery</td>\n",
       "      <td>0</td>\n",
       "      <td>1</td>\n",
       "      <td>0</td>\n",
       "      <td>1</td>\n",
       "      <td>5.656854</td>\n",
       "    </tr>\n",
       "    <tr>\n",
       "      <th>8614</th>\n",
       "      <td>Kateryna Serdiuk</td>\n",
       "      <td>17.0</td>\n",
       "      <td>Ukraine</td>\n",
       "      <td>2000</td>\n",
       "      <td>10-01-2000</td>\n",
       "      <td>Archery</td>\n",
       "      <td>0</td>\n",
       "      <td>1</td>\n",
       "      <td>0</td>\n",
       "      <td>1</td>\n",
       "      <td>4.123106</td>\n",
       "    </tr>\n",
       "    <tr>\n",
       "      <th>8615</th>\n",
       "      <td>Wietse van Alten</td>\n",
       "      <td>21.0</td>\n",
       "      <td>Netherlands</td>\n",
       "      <td>2000</td>\n",
       "      <td>10-01-2000</td>\n",
       "      <td>Archery</td>\n",
       "      <td>0</td>\n",
       "      <td>0</td>\n",
       "      <td>1</td>\n",
       "      <td>1</td>\n",
       "      <td>4.582576</td>\n",
       "    </tr>\n",
       "    <tr>\n",
       "      <th>8616</th>\n",
       "      <td>Sandra Wagner-Sachse</td>\n",
       "      <td>31.0</td>\n",
       "      <td>Germany</td>\n",
       "      <td>2000</td>\n",
       "      <td>10-01-2000</td>\n",
       "      <td>Archery</td>\n",
       "      <td>0</td>\n",
       "      <td>0</td>\n",
       "      <td>1</td>\n",
       "      <td>1</td>\n",
       "      <td>5.567764</td>\n",
       "    </tr>\n",
       "    <tr>\n",
       "      <th>8617</th>\n",
       "      <td>Rod White</td>\n",
       "      <td>23.0</td>\n",
       "      <td>United States</td>\n",
       "      <td>2000</td>\n",
       "      <td>10-01-2000</td>\n",
       "      <td>Archery</td>\n",
       "      <td>0</td>\n",
       "      <td>0</td>\n",
       "      <td>1</td>\n",
       "      <td>1</td>\n",
       "      <td>4.795832</td>\n",
       "    </tr>\n",
       "  </tbody>\n",
       "</table>\n",
       "<p>8615 rows × 11 columns</p>\n",
       "</div>"
      ],
      "text/plain": [
       "                      name   age        country  year  Date_Given      sports  \\\n",
       "0           Michael Phelps  23.0  United States  2008   8/24/2008    Swimming   \n",
       "1           Michael Phelps  19.0  United States  2004   8/29/2004    Swimming   \n",
       "2           Michael Phelps  27.0  United States  2012  08-12-2012    Swimming   \n",
       "3         Natalie Coughlin  25.0  United States  2008   8/24/2008    Swimming   \n",
       "4            Aleksey Nemov  24.0         Russia  2000  10-01-2000  Gymnastics   \n",
       "...                    ...   ...            ...   ...         ...         ...   \n",
       "8613      Olena Sadovnycha  32.0        Ukraine  2000  10-01-2000     Archery   \n",
       "8614      Kateryna Serdiuk  17.0        Ukraine  2000  10-01-2000     Archery   \n",
       "8615      Wietse van Alten  21.0    Netherlands  2000  10-01-2000     Archery   \n",
       "8616  Sandra Wagner-Sachse  31.0        Germany  2000  10-01-2000     Archery   \n",
       "8617             Rod White  23.0  United States  2000  10-01-2000     Archery   \n",
       "\n",
       "      gold_medal  silver_medal  brone_medal  total_medal  age_sqrt  \n",
       "0              8             0            0            8  4.795832  \n",
       "1              6             0            2            8  4.358899  \n",
       "2              4             2            0            6  5.196152  \n",
       "3              1             2            3            6  5.000000  \n",
       "4              2             1            3            6  4.898979  \n",
       "...          ...           ...          ...          ...       ...  \n",
       "8613           0             1            0            1  5.656854  \n",
       "8614           0             1            0            1  4.123106  \n",
       "8615           0             0            1            1  4.582576  \n",
       "8616           0             0            1            1  5.567764  \n",
       "8617           0             0            1            1  4.795832  \n",
       "\n",
       "[8615 rows x 11 columns]"
      ]
     },
     "execution_count": 87,
     "metadata": {},
     "output_type": "execute_result"
    }
   ],
   "source": [
    "df_agesqrt= df.copy(deep=True)\n",
    "df_agesqrt['age_sqrt'] = np.sqrt((df['age']))\n",
    "df_agesqrt"
   ]
  },
  {
   "cell_type": "code",
   "execution_count": 35,
   "id": "22859779",
   "metadata": {},
   "outputs": [
    {
     "data": {
      "text/plain": [
       "0.48991777592813834"
      ]
     },
     "execution_count": 35,
     "metadata": {},
     "output_type": "execute_result"
    }
   ],
   "source": [
    "#checking for the skewness of newly created age_sqrt column\n",
    "df_agesqrt['age_sqrt'].skew()"
   ]
  },
  {
   "cell_type": "code",
   "execution_count": 88,
   "id": "1567b716",
   "metadata": {},
   "outputs": [
    {
     "data": {
      "image/png": "[encoded data removed]",
      "text/plain": [
       "<Figure size 432x288 with 1 Axes>"
      ]
     },
     "metadata": {
      "needs_background": "light"
     },
     "output_type": "display_data"
    }
   ],
   "source": [
    "#plotting histplot of age_sqrt to check for skewness\n",
    "sns.histplot(df_agesqrt['age_sqrt'],color=\"dodgerblue\", kde = True)\n",
    "plt.title('Skewness after the Sqaure Root Transformation')\n",
    "plt.show()"
   ]
  },
  {
   "cell_type": "markdown",
   "id": "513ef915",
   "metadata": {},
   "source": [
    "The skewness value of 0.4899 for the transformed 'age' column shows that it is fairly skewed than previous data. Also we can see histplot of transformed 'age' column, it is also very near to fairly skewed. **Hence we have successfully performed data transformation.**"
   ]
  },
  {
   "cell_type": "markdown",
   "id": "4842614c",
   "metadata": {},
   "source": [
    "### Performing appropriate Numerical Measures on each column\n",
    "\n",
    "The describe() function generates **summary of descriptive statistics** for all the columns. It can analyze both numeric as ell as object type data.\n",
    "\n",
    "### Applying describe() to numeric type data columns\n",
    "\n",
    "For numeric data the, result’s index will include **count, mean, std, min, max, IQR i.e. 25, 50, and 75 percentiles**."
   ]
  },
  {
   "cell_type": "code",
   "execution_count": 89,
   "id": "1d81220b",
   "metadata": {},
   "outputs": [
    {
     "data": {
      "text/html": [
       "<div>\n",
       "<style scoped>\n",
       "    .dataframe tbody tr th:only-of-type {\n",
       "        vertical-align: middle;\n",
       "    }\n",
       "\n",
       "    .dataframe tbody tr th {\n",
       "        vertical-align: top;\n",
       "    }\n",
       "\n",
       "    .dataframe thead th {\n",
       "        text-align: right;\n",
       "    }\n",
       "</style>\n",
       "<table border=\"1\" class=\"dataframe\">\n",
       "  <thead>\n",
       "    <tr style=\"text-align: right;\">\n",
       "      <th></th>\n",
       "      <th>age</th>\n",
       "      <th>year</th>\n",
       "      <th>gold_medal</th>\n",
       "      <th>silver_medal</th>\n",
       "      <th>brone_medal</th>\n",
       "      <th>total_medal</th>\n",
       "    </tr>\n",
       "  </thead>\n",
       "  <tbody>\n",
       "    <tr>\n",
       "      <th>count</th>\n",
       "      <td>8615.00000</td>\n",
       "      <td>8615.000000</td>\n",
       "      <td>8615.000000</td>\n",
       "      <td>8615.000000</td>\n",
       "      <td>8615.000000</td>\n",
       "      <td>8615.000000</td>\n",
       "    </tr>\n",
       "    <tr>\n",
       "      <th>mean</th>\n",
       "      <td>26.40534</td>\n",
       "      <td>2005.976785</td>\n",
       "      <td>0.364829</td>\n",
       "      <td>0.363088</td>\n",
       "      <td>0.377829</td>\n",
       "      <td>1.105746</td>\n",
       "    </tr>\n",
       "    <tr>\n",
       "      <th>std</th>\n",
       "      <td>5.10153</td>\n",
       "      <td>4.289221</td>\n",
       "      <td>0.545401</td>\n",
       "      <td>0.511564</td>\n",
       "      <td>0.505044</td>\n",
       "      <td>0.408958</td>\n",
       "    </tr>\n",
       "    <tr>\n",
       "      <th>min</th>\n",
       "      <td>15.00000</td>\n",
       "      <td>2000.000000</td>\n",
       "      <td>0.000000</td>\n",
       "      <td>0.000000</td>\n",
       "      <td>0.000000</td>\n",
       "      <td>1.000000</td>\n",
       "    </tr>\n",
       "    <tr>\n",
       "      <th>25%</th>\n",
       "      <td>23.00000</td>\n",
       "      <td>2002.000000</td>\n",
       "      <td>0.000000</td>\n",
       "      <td>0.000000</td>\n",
       "      <td>0.000000</td>\n",
       "      <td>1.000000</td>\n",
       "    </tr>\n",
       "    <tr>\n",
       "      <th>50%</th>\n",
       "      <td>26.00000</td>\n",
       "      <td>2006.000000</td>\n",
       "      <td>0.000000</td>\n",
       "      <td>0.000000</td>\n",
       "      <td>0.000000</td>\n",
       "      <td>1.000000</td>\n",
       "    </tr>\n",
       "    <tr>\n",
       "      <th>75%</th>\n",
       "      <td>29.00000</td>\n",
       "      <td>2010.000000</td>\n",
       "      <td>1.000000</td>\n",
       "      <td>1.000000</td>\n",
       "      <td>1.000000</td>\n",
       "      <td>1.000000</td>\n",
       "    </tr>\n",
       "    <tr>\n",
       "      <th>max</th>\n",
       "      <td>61.00000</td>\n",
       "      <td>2012.000000</td>\n",
       "      <td>8.000000</td>\n",
       "      <td>3.000000</td>\n",
       "      <td>3.000000</td>\n",
       "      <td>8.000000</td>\n",
       "    </tr>\n",
       "  </tbody>\n",
       "</table>\n",
       "</div>"
      ],
      "text/plain": [
       "              age         year   gold_medal  silver_medal  brone_medal  \\\n",
       "count  8615.00000  8615.000000  8615.000000   8615.000000  8615.000000   \n",
       "mean     26.40534  2005.976785     0.364829      0.363088     0.377829   \n",
       "std       5.10153     4.289221     0.545401      0.511564     0.505044   \n",
       "min      15.00000  2000.000000     0.000000      0.000000     0.000000   \n",
       "25%      23.00000  2002.000000     0.000000      0.000000     0.000000   \n",
       "50%      26.00000  2006.000000     0.000000      0.000000     0.000000   \n",
       "75%      29.00000  2010.000000     1.000000      1.000000     1.000000   \n",
       "max      61.00000  2012.000000     8.000000      3.000000     3.000000   \n",
       "\n",
       "       total_medal  \n",
       "count  8615.000000  \n",
       "mean      1.105746  \n",
       "std       0.408958  \n",
       "min       1.000000  \n",
       "25%       1.000000  \n",
       "50%       1.000000  \n",
       "75%       1.000000  \n",
       "max       8.000000  "
      ]
     },
     "execution_count": 89,
     "metadata": {},
     "output_type": "execute_result"
    }
   ],
   "source": [
    "df.describe()"
   ]
  },
  {
   "cell_type": "markdown",
   "id": "dc7fe027",
   "metadata": {},
   "source": [
    "Where,\n",
    "\n",
    "**count** is the number of objects in the column.\n",
    "\n",
    "**mean** is the mean value of the (numeric)column.\n",
    "\n",
    "**std**\tis the Standard Deviation of values in the column.\n",
    "\n",
    "**min** is the minimum value appearing in the column.\n",
    "\n",
    "**25%** is the 25th percentile of values in the column.\n",
    "\n",
    "**50%**\tis the 50th percentile of values in the column.\n",
    "\n",
    "**75%**\tis the 75th percentile of values in the column.\n",
    "\n",
    "**max** is the maximum value appearing in the column.\n",
    "\n",
    "\n",
    "The result of df.describe() is self-explanatory. We can check various outcomes in the output."
   ]
  },
  {
   "cell_type": "markdown",
   "id": "1f4f0b37",
   "metadata": {},
   "source": [
    "### Applying describe() to object type data columns\n",
    "\n",
    "For object data the result’s index will include count, unique, top, and freq."
   ]
  },
  {
   "cell_type": "code",
   "execution_count": 90,
   "id": "3b3552e9",
   "metadata": {},
   "outputs": [
    {
     "data": {
      "text/html": [
       "<div>\n",
       "<style scoped>\n",
       "    .dataframe tbody tr th:only-of-type {\n",
       "        vertical-align: middle;\n",
       "    }\n",
       "\n",
       "    .dataframe tbody tr th {\n",
       "        vertical-align: top;\n",
       "    }\n",
       "\n",
       "    .dataframe thead th {\n",
       "        text-align: right;\n",
       "    }\n",
       "</style>\n",
       "<table border=\"1\" class=\"dataframe\">\n",
       "  <thead>\n",
       "    <tr style=\"text-align: right;\">\n",
       "      <th></th>\n",
       "      <th>name</th>\n",
       "      <th>country</th>\n",
       "      <th>Date_Given</th>\n",
       "      <th>sports</th>\n",
       "    </tr>\n",
       "  </thead>\n",
       "  <tbody>\n",
       "    <tr>\n",
       "      <th>count</th>\n",
       "      <td>8615</td>\n",
       "      <td>8615</td>\n",
       "      <td>8615</td>\n",
       "      <td>8615</td>\n",
       "    </tr>\n",
       "    <tr>\n",
       "      <th>unique</th>\n",
       "      <td>6956</td>\n",
       "      <td>110</td>\n",
       "      <td>7</td>\n",
       "      <td>49</td>\n",
       "    </tr>\n",
       "    <tr>\n",
       "      <th>top</th>\n",
       "      <td>Matt Wells</td>\n",
       "      <td>United States</td>\n",
       "      <td>8/24/2008</td>\n",
       "      <td>Athletics</td>\n",
       "    </tr>\n",
       "    <tr>\n",
       "      <th>freq</th>\n",
       "      <td>4</td>\n",
       "      <td>1109</td>\n",
       "      <td>1872</td>\n",
       "      <td>687</td>\n",
       "    </tr>\n",
       "  </tbody>\n",
       "</table>\n",
       "</div>"
      ],
      "text/plain": [
       "              name        country Date_Given     sports\n",
       "count         8615           8615       8615       8615\n",
       "unique        6956            110          7         49\n",
       "top     Matt Wells  United States  8/24/2008  Athletics\n",
       "freq             4           1109       1872        687"
      ]
     },
     "execution_count": 90,
     "metadata": {},
     "output_type": "execute_result"
    }
   ],
   "source": [
    "df.describe(include=object)"
   ]
  },
  {
   "cell_type": "markdown",
   "id": "2688d83b",
   "metadata": {},
   "source": [
    "Where,\n",
    "\n",
    "• **count** is the number of objects in the column.\n",
    "\n",
    "• **unique** is the number of distinct object in the column.\n",
    "\n",
    "• **top** is the Most frequently occurring object in the column.\n",
    "\n",
    "• **freq** is te number of times the top appearing object in the column.\n",
    "\n",
    "The **result** of df.describe(include=object) is **self-explanatory**. We can check various outcomes in the output.\n",
    "\n",
    "Additionally, we can explore correlation and variance for numeric type data column. \n",
    "\n",
    "### Checking for variance and correlation\n",
    "\n",
    "**Variance is the squared deviation of a variable from its mean.** It measures the spread of data in a dataset from its mean or median value, a low value for variance indicates that the data are clustered together and high value indicate that the data in the given set is more spread apart from the average value. "
   ]
  },
  {
   "cell_type": "code",
   "execution_count": 91,
   "id": "515d3bef",
   "metadata": {},
   "outputs": [
    {
     "name": "stderr",
     "output_type": "stream",
     "text": [
      "C:\\Users\\Anjii\\AppData\\Local\\Temp/ipykernel_23788/1568254755.py:1: FutureWarning: Dropping of nuisance columns in DataFrame reductions (with 'numeric_only=None') is deprecated; in a future version this will raise TypeError.  Select only valid columns before calling the reduction.\n",
      "  df.var()\n"
     ]
    },
    {
     "data": {
      "text/plain": [
       "age             26.025604\n",
       "year            18.397418\n",
       "gold_medal       0.297463\n",
       "silver_medal     0.261697\n",
       "brone_medal      0.255069\n",
       "total_medal      0.167247\n",
       "dtype: float64"
      ]
     },
     "execution_count": 91,
     "metadata": {},
     "output_type": "execute_result"
    }
   ],
   "source": [
    "df.var()                          #to get variance of columns"
   ]
  },
  {
   "cell_type": "code",
   "execution_count": 39,
   "id": "c003417c",
   "metadata": {},
   "outputs": [
    {
     "data": {
      "text/html": [
       "<div>\n",
       "<style scoped>\n",
       "    .dataframe tbody tr th:only-of-type {\n",
       "        vertical-align: middle;\n",
       "    }\n",
       "\n",
       "    .dataframe tbody tr th {\n",
       "        vertical-align: top;\n",
       "    }\n",
       "\n",
       "    .dataframe thead th {\n",
       "        text-align: right;\n",
       "    }\n",
       "</style>\n",
       "<table border=\"1\" class=\"dataframe\">\n",
       "  <thead>\n",
       "    <tr style=\"text-align: right;\">\n",
       "      <th></th>\n",
       "      <th>age</th>\n",
       "      <th>year</th>\n",
       "      <th>gold_medal</th>\n",
       "      <th>silver_medal</th>\n",
       "      <th>brone_medal</th>\n",
       "      <th>total_medal</th>\n",
       "    </tr>\n",
       "  </thead>\n",
       "  <tbody>\n",
       "    <tr>\n",
       "      <th>age</th>\n",
       "      <td>1.000000</td>\n",
       "      <td>-0.006838</td>\n",
       "      <td>-0.029539</td>\n",
       "      <td>-0.011250</td>\n",
       "      <td>-0.015292</td>\n",
       "      <td>-0.072351</td>\n",
       "    </tr>\n",
       "    <tr>\n",
       "      <th>year</th>\n",
       "      <td>-0.006838</td>\n",
       "      <td>1.000000</td>\n",
       "      <td>-0.002632</td>\n",
       "      <td>-0.001131</td>\n",
       "      <td>0.009837</td>\n",
       "      <td>0.007224</td>\n",
       "    </tr>\n",
       "    <tr>\n",
       "      <th>gold_medal</th>\n",
       "      <td>-0.029539</td>\n",
       "      <td>-0.002632</td>\n",
       "      <td>1.000000</td>\n",
       "      <td>-0.348754</td>\n",
       "      <td>-0.403128</td>\n",
       "      <td>0.399538</td>\n",
       "    </tr>\n",
       "    <tr>\n",
       "      <th>silver_medal</th>\n",
       "      <td>-0.011250</td>\n",
       "      <td>-0.001131</td>\n",
       "      <td>-0.348754</td>\n",
       "      <td>1.000000</td>\n",
       "      <td>-0.445669</td>\n",
       "      <td>0.235404</td>\n",
       "    </tr>\n",
       "    <tr>\n",
       "      <th>brone_medal</th>\n",
       "      <td>-0.015292</td>\n",
       "      <td>0.009837</td>\n",
       "      <td>-0.403128</td>\n",
       "      <td>-0.445669</td>\n",
       "      <td>1.000000</td>\n",
       "      <td>0.139840</td>\n",
       "    </tr>\n",
       "    <tr>\n",
       "      <th>total_medal</th>\n",
       "      <td>-0.072351</td>\n",
       "      <td>0.007224</td>\n",
       "      <td>0.399538</td>\n",
       "      <td>0.235404</td>\n",
       "      <td>0.139840</td>\n",
       "      <td>1.000000</td>\n",
       "    </tr>\n",
       "  </tbody>\n",
       "</table>\n",
       "</div>"
      ],
      "text/plain": [
       "                   age      year  gold_medal  silver_medal  brone_medal  \\\n",
       "age           1.000000 -0.006838   -0.029539     -0.011250    -0.015292   \n",
       "year         -0.006838  1.000000   -0.002632     -0.001131     0.009837   \n",
       "gold_medal   -0.029539 -0.002632    1.000000     -0.348754    -0.403128   \n",
       "silver_medal -0.011250 -0.001131   -0.348754      1.000000    -0.445669   \n",
       "brone_medal  -0.015292  0.009837   -0.403128     -0.445669     1.000000   \n",
       "total_medal  -0.072351  0.007224    0.399538      0.235404     0.139840   \n",
       "\n",
       "              total_medal  \n",
       "age             -0.072351  \n",
       "year             0.007224  \n",
       "gold_medal       0.399538  \n",
       "silver_medal     0.235404  \n",
       "brone_medal      0.139840  \n",
       "total_medal      1.000000  "
      ]
     },
     "execution_count": 39,
     "metadata": {},
     "output_type": "execute_result"
    }
   ],
   "source": [
    "df.corr()                        # to get correlation between all numeric columns"
   ]
  },
  {
   "cell_type": "markdown",
   "id": "3506fb64",
   "metadata": {},
   "source": [
    "### Exploring country column\n",
    "\n",
    "We can check which country is having maximum participants in the over all years from 2000 to 2012."
   ]
  },
  {
   "cell_type": "code",
   "execution_count": 93,
   "id": "ed836fd3",
   "metadata": {},
   "outputs": [
    {
     "data": {
      "text/plain": [
       "United States    1109\n",
       "Russia            706\n",
       "Germany           552\n",
       "Australia         524\n",
       "China             450\n",
       "Canada            351\n",
       "Italy             307\n",
       "Great Britain     296\n",
       "France            287\n",
       "Netherlands       286\n",
       "Name: country, dtype: int64"
      ]
     },
     "execution_count": 93,
     "metadata": {},
     "output_type": "execute_result"
    }
   ],
   "source": [
    "df.country.value_counts().sort_values(ascending=False).head(10)"
   ]
  },
  {
   "cell_type": "markdown",
   "id": "5790e1ac",
   "metadata": {},
   "source": [
    "The United States is highly particiapting in the Olympic Games. Also we have the top ten countries having highest participants.\n",
    "\n",
    "### Exploring year column\n",
    "\n",
    "We can find out years for which Olympic's data is given as bellow:"
   ]
  },
  {
   "cell_type": "code",
   "execution_count": 94,
   "id": "3f8b4986",
   "metadata": {},
   "outputs": [
    {
     "data": {
      "text/plain": [
       "array([2008, 2004, 2012, 2000, 2006, 2010, 2002], dtype=int64)"
      ]
     },
     "execution_count": 94,
     "metadata": {},
     "output_type": "execute_result"
    }
   ],
   "source": [
    "df[\"year\"].unique()"
   ]
  },
  {
   "cell_type": "markdown",
   "id": "795da37b",
   "metadata": {},
   "source": [
    "### Exploring country column\n",
    "\n",
    "We will check sportsperson from India who is in our dataset."
   ]
  },
  {
   "cell_type": "code",
   "execution_count": 157,
   "id": "bd96b64c",
   "metadata": {},
   "outputs": [
    {
     "data": {
      "text/html": [
       "<div>\n",
       "<style scoped>\n",
       "    .dataframe tbody tr th:only-of-type {\n",
       "        vertical-align: middle;\n",
       "    }\n",
       "\n",
       "    .dataframe tbody tr th {\n",
       "        vertical-align: top;\n",
       "    }\n",
       "\n",
       "    .dataframe thead th {\n",
       "        text-align: right;\n",
       "    }\n",
       "</style>\n",
       "<table border=\"1\" class=\"dataframe\">\n",
       "  <thead>\n",
       "    <tr style=\"text-align: right;\">\n",
       "      <th></th>\n",
       "      <th>name</th>\n",
       "      <th>age</th>\n",
       "      <th>country</th>\n",
       "      <th>year</th>\n",
       "      <th>Date_Given</th>\n",
       "      <th>sports</th>\n",
       "      <th>gold_medal</th>\n",
       "      <th>silver_medal</th>\n",
       "      <th>brone_medal</th>\n",
       "      <th>total_medal</th>\n",
       "    </tr>\n",
       "  </thead>\n",
       "  <tbody>\n",
       "    <tr>\n",
       "      <th>702</th>\n",
       "      <td>Yogeshwar Dutt</td>\n",
       "      <td>29.0</td>\n",
       "      <td>India</td>\n",
       "      <td>2012</td>\n",
       "      <td>08-12-2012</td>\n",
       "      <td>Wrestling</td>\n",
       "      <td>0</td>\n",
       "      <td>0</td>\n",
       "      <td>1</td>\n",
       "      <td>1</td>\n",
       "    </tr>\n",
       "    <tr>\n",
       "      <th>722</th>\n",
       "      <td>Sushil Kumar</td>\n",
       "      <td>29.0</td>\n",
       "      <td>India</td>\n",
       "      <td>2012</td>\n",
       "      <td>08-12-2012</td>\n",
       "      <td>Wrestling</td>\n",
       "      <td>0</td>\n",
       "      <td>1</td>\n",
       "      <td>0</td>\n",
       "      <td>1</td>\n",
       "    </tr>\n",
       "    <tr>\n",
       "      <th>797</th>\n",
       "      <td>Sushil Kumar</td>\n",
       "      <td>25.0</td>\n",
       "      <td>India</td>\n",
       "      <td>2008</td>\n",
       "      <td>8/24/2008</td>\n",
       "      <td>Wrestling</td>\n",
       "      <td>0</td>\n",
       "      <td>0</td>\n",
       "      <td>1</td>\n",
       "      <td>1</td>\n",
       "    </tr>\n",
       "    <tr>\n",
       "      <th>1094</th>\n",
       "      <td>Karnam Malleswari</td>\n",
       "      <td>25.0</td>\n",
       "      <td>India</td>\n",
       "      <td>2000</td>\n",
       "      <td>10-01-2000</td>\n",
       "      <td>Weightlifting</td>\n",
       "      <td>0</td>\n",
       "      <td>0</td>\n",
       "      <td>1</td>\n",
       "      <td>1</td>\n",
       "    </tr>\n",
       "    <tr>\n",
       "      <th>2786</th>\n",
       "      <td>Vijay Kumar</td>\n",
       "      <td>26.0</td>\n",
       "      <td>India</td>\n",
       "      <td>2012</td>\n",
       "      <td>08-12-2012</td>\n",
       "      <td>Shooting</td>\n",
       "      <td>0</td>\n",
       "      <td>1</td>\n",
       "      <td>0</td>\n",
       "      <td>1</td>\n",
       "    </tr>\n",
       "    <tr>\n",
       "      <th>2791</th>\n",
       "      <td>Gagan Narang</td>\n",
       "      <td>29.0</td>\n",
       "      <td>India</td>\n",
       "      <td>2012</td>\n",
       "      <td>08-12-2012</td>\n",
       "      <td>Shooting</td>\n",
       "      <td>0</td>\n",
       "      <td>0</td>\n",
       "      <td>1</td>\n",
       "      <td>1</td>\n",
       "    </tr>\n",
       "    <tr>\n",
       "      <th>2807</th>\n",
       "      <td>Abhinav Bindra</td>\n",
       "      <td>25.0</td>\n",
       "      <td>India</td>\n",
       "      <td>2008</td>\n",
       "      <td>8/24/2008</td>\n",
       "      <td>Shooting</td>\n",
       "      <td>1</td>\n",
       "      <td>0</td>\n",
       "      <td>0</td>\n",
       "      <td>1</td>\n",
       "    </tr>\n",
       "    <tr>\n",
       "      <th>2877</th>\n",
       "      <td>Rajyavardhan Rathore</td>\n",
       "      <td>34.0</td>\n",
       "      <td>India</td>\n",
       "      <td>2004</td>\n",
       "      <td>8/29/2004</td>\n",
       "      <td>Shooting</td>\n",
       "      <td>0</td>\n",
       "      <td>1</td>\n",
       "      <td>0</td>\n",
       "      <td>1</td>\n",
       "    </tr>\n",
       "    <tr>\n",
       "      <th>7170</th>\n",
       "      <td>M. C. Mary Kom</td>\n",
       "      <td>29.0</td>\n",
       "      <td>India</td>\n",
       "      <td>2012</td>\n",
       "      <td>08-12-2012</td>\n",
       "      <td>Boxing</td>\n",
       "      <td>0</td>\n",
       "      <td>0</td>\n",
       "      <td>1</td>\n",
       "      <td>1</td>\n",
       "    </tr>\n",
       "    <tr>\n",
       "      <th>7235</th>\n",
       "      <td>Vijender Singh</td>\n",
       "      <td>22.0</td>\n",
       "      <td>India</td>\n",
       "      <td>2008</td>\n",
       "      <td>8/24/2008</td>\n",
       "      <td>Boxing</td>\n",
       "      <td>0</td>\n",
       "      <td>0</td>\n",
       "      <td>1</td>\n",
       "      <td>1</td>\n",
       "    </tr>\n",
       "    <tr>\n",
       "      <th>7806</th>\n",
       "      <td>Saina Nehwal</td>\n",
       "      <td>22.0</td>\n",
       "      <td>India</td>\n",
       "      <td>2012</td>\n",
       "      <td>08-12-2012</td>\n",
       "      <td>Badminton</td>\n",
       "      <td>0</td>\n",
       "      <td>0</td>\n",
       "      <td>1</td>\n",
       "      <td>1</td>\n",
       "    </tr>\n",
       "  </tbody>\n",
       "</table>\n",
       "</div>"
      ],
      "text/plain": [
       "                      name   age country  year  Date_Given         sports  \\\n",
       "702         Yogeshwar Dutt  29.0   India  2012  08-12-2012      Wrestling   \n",
       "722           Sushil Kumar  29.0   India  2012  08-12-2012      Wrestling   \n",
       "797           Sushil Kumar  25.0   India  2008   8/24/2008      Wrestling   \n",
       "1094     Karnam Malleswari  25.0   India  2000  10-01-2000  Weightlifting   \n",
       "2786           Vijay Kumar  26.0   India  2012  08-12-2012       Shooting   \n",
       "2791          Gagan Narang  29.0   India  2012  08-12-2012       Shooting   \n",
       "2807        Abhinav Bindra  25.0   India  2008   8/24/2008       Shooting   \n",
       "2877  Rajyavardhan Rathore  34.0   India  2004   8/29/2004       Shooting   \n",
       "7170        M. C. Mary Kom  29.0   India  2012  08-12-2012         Boxing   \n",
       "7235        Vijender Singh  22.0   India  2008   8/24/2008         Boxing   \n",
       "7806          Saina Nehwal  22.0   India  2012  08-12-2012      Badminton   \n",
       "\n",
       "      gold_medal  silver_medal  brone_medal  total_medal  \n",
       "702            0             0            1            1  \n",
       "722            0             1            0            1  \n",
       "797            0             0            1            1  \n",
       "1094           0             0            1            1  \n",
       "2786           0             1            0            1  \n",
       "2791           0             0            1            1  \n",
       "2807           1             0            0            1  \n",
       "2877           0             1            0            1  \n",
       "7170           0             0            1            1  \n",
       "7235           0             0            1            1  \n",
       "7806           0             0            1            1  "
      ]
     },
     "execution_count": 157,
     "metadata": {},
     "output_type": "execute_result"
    }
   ],
   "source": [
    "df_india = df.query('country== \"India\"')\n",
    "df_india"
   ]
  },
  {
   "cell_type": "code",
   "execution_count": 161,
   "id": "d9e63e6a",
   "metadata": {},
   "outputs": [
    {
     "data": {
      "text/plain": [
       "11"
      ]
     },
     "execution_count": 161,
     "metadata": {},
     "output_type": "execute_result"
    }
   ],
   "source": [
    "df_india.name.count()"
   ]
  },
  {
   "cell_type": "code",
   "execution_count": 167,
   "id": "f2aec263",
   "metadata": {},
   "outputs": [
    {
     "data": {
      "text/plain": [
       "array([2012, 2008, 2000, 2004], dtype=int64)"
      ]
     },
     "execution_count": 167,
     "metadata": {},
     "output_type": "execute_result"
    }
   ],
   "source": [
    "df_india[\"year\"].unique()"
   ]
  },
  {
   "cell_type": "code",
   "execution_count": 168,
   "id": "0cc05ea8",
   "metadata": {},
   "outputs": [
    {
     "data": {
      "text/plain": [
       "array(['Wrestling', 'Weightlifting', 'Shooting', 'Boxing', 'Badminton'],\n",
       "      dtype=object)"
      ]
     },
     "execution_count": 168,
     "metadata": {},
     "output_type": "execute_result"
    }
   ],
   "source": [
    "df_india[\"sports\"].unique()"
   ]
  },
  {
   "cell_type": "markdown",
   "id": "e69e311e",
   "metadata": {},
   "source": [
    "**There are 11 sportsperson from India who won medals for the India in Olympic Games.\n",
    "They won medals im 2000,2004,2008, and 2012. They have participated in sports listed as 'Wrestling', 'Weightlifting', 'Shooting', 'Boxing', 'Badminton'** "
   ]
  },
  {
   "cell_type": "markdown",
   "id": "2d554a53",
   "metadata": {},
   "source": [
    "### Exploring sports column\n",
    "\n",
    "We know there are 49 types of different sports are involved in the Olympics from describe() function. Now we will find out names of different types of sports played in Olympics as follows:"
   ]
  },
  {
   "cell_type": "code",
   "execution_count": 42,
   "id": "30e1d2ea",
   "metadata": {
    "scrolled": true
   },
   "outputs": [
    {
     "data": {
      "text/plain": [
       "array(['Swimming', 'Gymnastics', 'Speed Skating', 'Cross Country Skiing',\n",
       "       'Short-Track Speed Skating', 'Diving', 'Cycling', 'Biathlon',\n",
       "       'Alpine Skiing', 'Ski Jumping', 'Nordic Combined', 'Athletics',\n",
       "       'Table Tennis', 'Tennis', 'Synchronized Swimming', 'Shooting',\n",
       "       'Rowing', 'Fencing', 'Equestrian', 'Canoeing', 'Bobsleigh',\n",
       "       'Badminton', 'Archery', 'Wrestling', 'Weightlifting', 'Waterpolo',\n",
       "       'Volleyball', 'Triathlon', 'Trampoline', 'Taekwondo', 'Softball',\n",
       "       'Snowboarding', 'Skeleton', 'Sailing', 'Rhythmic Gymnastics',\n",
       "       'Modern Pentathlon', 'Luge', 'Judo', 'Ice Hockey', 'Hockey',\n",
       "       'Handball', 'Football', 'Figure Skating', 'Freestyle Skiing',\n",
       "       'Curling', 'Baseball', 'Boxing', 'Beach Volleyball', 'Basketball'],\n",
       "      dtype=object)"
      ]
     },
     "execution_count": 42,
     "metadata": {},
     "output_type": "execute_result"
    }
   ],
   "source": [
    "df[\"sports\"].unique()"
   ]
  },
  {
   "cell_type": "code",
   "execution_count": 135,
   "id": "1af956dd",
   "metadata": {},
   "outputs": [
    {
     "data": {
      "text/plain": [
       "sports\n",
       "Alpine Skiing       [Janica Kostelic, Bode Miller, Aksel Lund Svin...\n",
       "Archery             [Ki Bo-Bae, Oh Jin-Hyek, Park Gyeong-Mo, Park ...\n",
       "Athletics           [Yohan Blake, Usain Bolt, Allyson Felix, Shell...\n",
       "Badminton           [Zhao Yunlei, Lee Hyo-Jeong, Yu Yang, Gao Ling...\n",
       "Baseball            [Brett Anderson, Jake Arrieta, Brian Barden, A...\n",
       "Basketball          [Carmelo Anthony, Semyon Antonov, Seimone Augu...\n",
       "Beach Volleyball    [Julius Brink, Alison Cerutti, Emanuel, Julian...\n",
       "Biathlon            [Ole Einar Bjørndalen, Magdalena Neuner, Emil ...\n",
       "Bobsleigh           [Kevin Kuske, André Lange, Martin Annen, Beat ...\n",
       "Boxing              [Nicola Adams, Misha Aloyan, Lázaro Álvarez, A...\n",
       "Name: name, dtype: object"
      ]
     },
     "execution_count": 135,
     "metadata": {},
     "output_type": "execute_result"
    }
   ],
   "source": [
    "df.groupby(\"sports\")[\"name\"].unique().head(10)"
   ]
  },
  {
   "cell_type": "markdown",
   "id": "7041c1a5",
   "metadata": {},
   "source": [
    "### Please list the top 10 countries with the gold medal, then the top10 countries with the silver medal, then the bronze medal and the total medal.\n",
    "\n",
    "We will use groupby() and sort_values() to groupby country and sort our dataset by the values of column and store in the new dataframe 'df_medal'. \n",
    "\n",
    "### Top 10 countries with the Gold Medal"
   ]
  },
  {
   "cell_type": "code",
   "execution_count": 43,
   "id": "2dba7f16",
   "metadata": {},
   "outputs": [
    {
     "data": {
      "text/html": [
       "<div>\n",
       "<style scoped>\n",
       "    .dataframe tbody tr th:only-of-type {\n",
       "        vertical-align: middle;\n",
       "    }\n",
       "\n",
       "    .dataframe tbody tr th {\n",
       "        vertical-align: top;\n",
       "    }\n",
       "\n",
       "    .dataframe thead th {\n",
       "        text-align: right;\n",
       "    }\n",
       "</style>\n",
       "<table border=\"1\" class=\"dataframe\">\n",
       "  <thead>\n",
       "    <tr style=\"text-align: right;\">\n",
       "      <th></th>\n",
       "      <th>gold_medal</th>\n",
       "    </tr>\n",
       "    <tr>\n",
       "      <th>country</th>\n",
       "      <th></th>\n",
       "    </tr>\n",
       "  </thead>\n",
       "  <tbody>\n",
       "    <tr>\n",
       "      <th>United States</th>\n",
       "      <td>552</td>\n",
       "    </tr>\n",
       "    <tr>\n",
       "      <th>Russia</th>\n",
       "      <td>234</td>\n",
       "    </tr>\n",
       "    <tr>\n",
       "      <th>China</th>\n",
       "      <td>234</td>\n",
       "    </tr>\n",
       "    <tr>\n",
       "      <th>Germany</th>\n",
       "      <td>223</td>\n",
       "    </tr>\n",
       "    <tr>\n",
       "      <th>Canada</th>\n",
       "      <td>168</td>\n",
       "    </tr>\n",
       "    <tr>\n",
       "      <th>Australia</th>\n",
       "      <td>163</td>\n",
       "    </tr>\n",
       "    <tr>\n",
       "      <th>Great Britain</th>\n",
       "      <td>124</td>\n",
       "    </tr>\n",
       "    <tr>\n",
       "      <th>South Korea</th>\n",
       "      <td>110</td>\n",
       "    </tr>\n",
       "    <tr>\n",
       "      <th>France</th>\n",
       "      <td>108</td>\n",
       "    </tr>\n",
       "    <tr>\n",
       "      <th>Netherlands</th>\n",
       "      <td>101</td>\n",
       "    </tr>\n",
       "  </tbody>\n",
       "</table>\n",
       "</div>"
      ],
      "text/plain": [
       "               gold_medal\n",
       "country                  \n",
       "United States         552\n",
       "Russia                234\n",
       "China                 234\n",
       "Germany               223\n",
       "Canada                168\n",
       "Australia             163\n",
       "Great Britain         124\n",
       "South Korea           110\n",
       "France                108\n",
       "Netherlands           101"
      ]
     },
     "execution_count": 43,
     "metadata": {},
     "output_type": "execute_result"
    }
   ],
   "source": [
    "df_medals = df.groupby('country').sum()\n",
    "gold_medals = df_medals.sort_values(by=['gold_medal'],ascending=False, inplace=False)\n",
    "G = gold_medals[['gold_medal']].head(10)\n",
    "G"
   ]
  },
  {
   "cell_type": "markdown",
   "id": "c76c3ea0",
   "metadata": {},
   "source": [
    "### Visulization of the result using Barplot\n",
    "\n",
    "Visualization makes easier to get insights of our findings and it also add value for our presentaion."
   ]
  },
  {
   "cell_type": "code",
   "execution_count": 50,
   "id": "4a2eef4f",
   "metadata": {},
   "outputs": [
    {
     "data": {
      "image/png": "[encoded data removed]",
      "text/plain": [
       "<Figure size 432x288 with 1 Axes>"
      ]
     },
     "metadata": {
      "needs_background": "light"
     },
     "output_type": "display_data"
    }
   ],
   "source": [
    "plt.title(\"Top 10 countries with the Gold Medals\")\n",
    "sns.barplot(x = G.index, y=\"gold_medal\", data=G)\n",
    "plt.xticks(rotation=90)\n",
    "plt.show()"
   ]
  },
  {
   "cell_type": "markdown",
   "id": "fe67138c",
   "metadata": {},
   "source": [
    "## **• Top 10 countries with the Silver Medal**"
   ]
  },
  {
   "cell_type": "code",
   "execution_count": 51,
   "id": "20eb9b15",
   "metadata": {
    "scrolled": true
   },
   "outputs": [
    {
     "data": {
      "text/html": [
       "<div>\n",
       "<style scoped>\n",
       "    .dataframe tbody tr th:only-of-type {\n",
       "        vertical-align: middle;\n",
       "    }\n",
       "\n",
       "    .dataframe tbody tr th {\n",
       "        vertical-align: top;\n",
       "    }\n",
       "\n",
       "    .dataframe thead th {\n",
       "        text-align: right;\n",
       "    }\n",
       "</style>\n",
       "<table border=\"1\" class=\"dataframe\">\n",
       "  <thead>\n",
       "    <tr style=\"text-align: right;\">\n",
       "      <th></th>\n",
       "      <th>silver_medal</th>\n",
       "    </tr>\n",
       "    <tr>\n",
       "      <th>country</th>\n",
       "      <th></th>\n",
       "    </tr>\n",
       "  </thead>\n",
       "  <tbody>\n",
       "    <tr>\n",
       "      <th>United States</th>\n",
       "      <td>440</td>\n",
       "    </tr>\n",
       "    <tr>\n",
       "      <th>Australia</th>\n",
       "      <td>226</td>\n",
       "    </tr>\n",
       "    <tr>\n",
       "      <th>Russia</th>\n",
       "      <td>221</td>\n",
       "    </tr>\n",
       "    <tr>\n",
       "      <th>Germany</th>\n",
       "      <td>183</td>\n",
       "    </tr>\n",
       "    <tr>\n",
       "      <th>China</th>\n",
       "      <td>156</td>\n",
       "    </tr>\n",
       "    <tr>\n",
       "      <th>Netherlands</th>\n",
       "      <td>135</td>\n",
       "    </tr>\n",
       "    <tr>\n",
       "      <th>Spain</th>\n",
       "      <td>116</td>\n",
       "    </tr>\n",
       "    <tr>\n",
       "      <th>Japan</th>\n",
       "      <td>112</td>\n",
       "    </tr>\n",
       "    <tr>\n",
       "      <th>France</th>\n",
       "      <td>107</td>\n",
       "    </tr>\n",
       "    <tr>\n",
       "      <th>Italy</th>\n",
       "      <td>103</td>\n",
       "    </tr>\n",
       "  </tbody>\n",
       "</table>\n",
       "</div>"
      ],
      "text/plain": [
       "               silver_medal\n",
       "country                    \n",
       "United States           440\n",
       "Australia               226\n",
       "Russia                  221\n",
       "Germany                 183\n",
       "China                   156\n",
       "Netherlands             135\n",
       "Spain                   116\n",
       "Japan                   112\n",
       "France                  107\n",
       "Italy                   103"
      ]
     },
     "execution_count": 51,
     "metadata": {},
     "output_type": "execute_result"
    }
   ],
   "source": [
    "silver_medals = df_medals.sort_values(by=['silver_medal'],ascending=False, inplace=False)\n",
    "S = silver_medals[['silver_medal']].head(10)\n",
    "S"
   ]
  },
  {
   "cell_type": "markdown",
   "id": "09d41825",
   "metadata": {},
   "source": [
    "### Visulization of the result using Barplot"
   ]
  },
  {
   "cell_type": "code",
   "execution_count": 52,
   "id": "c4476824",
   "metadata": {},
   "outputs": [
    {
     "data": {
      "image/png": "[encoded data removed]",
      "text/plain": [
       "<Figure size 432x288 with 1 Axes>"
      ]
     },
     "metadata": {
      "needs_background": "light"
     },
     "output_type": "display_data"
    }
   ],
   "source": [
    "plt.title(\"Top 10 countries with the Silver Medals\")\n",
    "sns.barplot(x = S.index, y=\"silver_medal\", data=S)\n",
    "plt.xticks(rotation=90)\n",
    "plt.show()"
   ]
  },
  {
   "cell_type": "markdown",
   "id": "bee424ab",
   "metadata": {},
   "source": [
    "## **• Top 10 countries with the Bronze Medal**"
   ]
  },
  {
   "cell_type": "code",
   "execution_count": 53,
   "id": "52297ec7",
   "metadata": {},
   "outputs": [
    {
     "data": {
      "text/html": [
       "<div>\n",
       "<style scoped>\n",
       "    .dataframe tbody tr th:only-of-type {\n",
       "        vertical-align: middle;\n",
       "    }\n",
       "\n",
       "    .dataframe tbody tr th {\n",
       "        vertical-align: top;\n",
       "    }\n",
       "\n",
       "    .dataframe thead th {\n",
       "        text-align: right;\n",
       "    }\n",
       "</style>\n",
       "<table border=\"1\" class=\"dataframe\">\n",
       "  <thead>\n",
       "    <tr style=\"text-align: right;\">\n",
       "      <th></th>\n",
       "      <th>brone_medal</th>\n",
       "    </tr>\n",
       "    <tr>\n",
       "      <th>country</th>\n",
       "      <th></th>\n",
       "    </tr>\n",
       "  </thead>\n",
       "  <tbody>\n",
       "    <tr>\n",
       "      <th>United States</th>\n",
       "      <td>320</td>\n",
       "    </tr>\n",
       "    <tr>\n",
       "      <th>Australia</th>\n",
       "      <td>220</td>\n",
       "    </tr>\n",
       "    <tr>\n",
       "      <th>Russia</th>\n",
       "      <td>313</td>\n",
       "    </tr>\n",
       "    <tr>\n",
       "      <th>Germany</th>\n",
       "      <td>223</td>\n",
       "    </tr>\n",
       "    <tr>\n",
       "      <th>China</th>\n",
       "      <td>140</td>\n",
       "    </tr>\n",
       "    <tr>\n",
       "      <th>Netherlands</th>\n",
       "      <td>82</td>\n",
       "    </tr>\n",
       "    <tr>\n",
       "      <th>Spain</th>\n",
       "      <td>70</td>\n",
       "    </tr>\n",
       "    <tr>\n",
       "      <th>Japan</th>\n",
       "      <td>113</td>\n",
       "    </tr>\n",
       "    <tr>\n",
       "      <th>France</th>\n",
       "      <td>103</td>\n",
       "    </tr>\n",
       "    <tr>\n",
       "      <th>Italy</th>\n",
       "      <td>142</td>\n",
       "    </tr>\n",
       "  </tbody>\n",
       "</table>\n",
       "</div>"
      ],
      "text/plain": [
       "               brone_medal\n",
       "country                   \n",
       "United States          320\n",
       "Australia              220\n",
       "Russia                 313\n",
       "Germany                223\n",
       "China                  140\n",
       "Netherlands             82\n",
       "Spain                   70\n",
       "Japan                  113\n",
       "France                 103\n",
       "Italy                  142"
      ]
     },
     "execution_count": 53,
     "metadata": {},
     "output_type": "execute_result"
    }
   ],
   "source": [
    "bronze_medals = df_medals.sort_values(by=['silver_medal'],ascending=False, inplace=False)\n",
    "B = bronze_medals[['brone_medal']].head(10)\n",
    "B"
   ]
  },
  {
   "cell_type": "markdown",
   "id": "1d91f41e",
   "metadata": {},
   "source": [
    "### Visulization of the result using Barplot"
   ]
  },
  {
   "cell_type": "code",
   "execution_count": 54,
   "id": "6e54eaa4",
   "metadata": {},
   "outputs": [
    {
     "data": {
      "image/png": "[encoded data removed]",
      "text/plain": [
       "<Figure size 432x288 with 1 Axes>"
      ]
     },
     "metadata": {
      "needs_background": "light"
     },
     "output_type": "display_data"
    }
   ],
   "source": [
    "plt.title(\"Top 10 countries with the Bronze Medals\")\n",
    "sns.barplot(x = B.index, y=\"brone_medal\", data=B)\n",
    "plt.xticks(rotation=90)\n",
    "plt.show()"
   ]
  },
  {
   "cell_type": "markdown",
   "id": "6487e04e",
   "metadata": {},
   "source": [
    "## **• Top 10 countries with the Total Medals**"
   ]
  },
  {
   "cell_type": "code",
   "execution_count": 55,
   "id": "278bbd10",
   "metadata": {},
   "outputs": [
    {
     "data": {
      "text/html": [
       "<div>\n",
       "<style scoped>\n",
       "    .dataframe tbody tr th:only-of-type {\n",
       "        vertical-align: middle;\n",
       "    }\n",
       "\n",
       "    .dataframe tbody tr th {\n",
       "        vertical-align: top;\n",
       "    }\n",
       "\n",
       "    .dataframe thead th {\n",
       "        text-align: right;\n",
       "    }\n",
       "</style>\n",
       "<table border=\"1\" class=\"dataframe\">\n",
       "  <thead>\n",
       "    <tr style=\"text-align: right;\">\n",
       "      <th></th>\n",
       "      <th>total_medal</th>\n",
       "    </tr>\n",
       "    <tr>\n",
       "      <th>country</th>\n",
       "      <th></th>\n",
       "    </tr>\n",
       "  </thead>\n",
       "  <tbody>\n",
       "    <tr>\n",
       "      <th>United States</th>\n",
       "      <td>1312</td>\n",
       "    </tr>\n",
       "    <tr>\n",
       "      <th>Russia</th>\n",
       "      <td>768</td>\n",
       "    </tr>\n",
       "    <tr>\n",
       "      <th>Germany</th>\n",
       "      <td>629</td>\n",
       "    </tr>\n",
       "    <tr>\n",
       "      <th>Australia</th>\n",
       "      <td>609</td>\n",
       "    </tr>\n",
       "    <tr>\n",
       "      <th>China</th>\n",
       "      <td>530</td>\n",
       "    </tr>\n",
       "    <tr>\n",
       "      <th>Canada</th>\n",
       "      <td>370</td>\n",
       "    </tr>\n",
       "    <tr>\n",
       "      <th>Italy</th>\n",
       "      <td>331</td>\n",
       "    </tr>\n",
       "    <tr>\n",
       "      <th>Great Britain</th>\n",
       "      <td>322</td>\n",
       "    </tr>\n",
       "    <tr>\n",
       "      <th>France</th>\n",
       "      <td>318</td>\n",
       "    </tr>\n",
       "    <tr>\n",
       "      <th>Netherlands</th>\n",
       "      <td>318</td>\n",
       "    </tr>\n",
       "  </tbody>\n",
       "</table>\n",
       "</div>"
      ],
      "text/plain": [
       "               total_medal\n",
       "country                   \n",
       "United States         1312\n",
       "Russia                 768\n",
       "Germany                629\n",
       "Australia              609\n",
       "China                  530\n",
       "Canada                 370\n",
       "Italy                  331\n",
       "Great Britain          322\n",
       "France                 318\n",
       "Netherlands            318"
      ]
     },
     "execution_count": 55,
     "metadata": {},
     "output_type": "execute_result"
    }
   ],
   "source": [
    "total_medals = df_medals.sort_values(by=['total_medal'],ascending=False, inplace=False)\n",
    "T = total_medals[['total_medal']].head(10)\n",
    "T"
   ]
  },
  {
   "cell_type": "markdown",
   "id": "8776a3b1",
   "metadata": {},
   "source": [
    "### Visulization of the result using Barplot"
   ]
  },
  {
   "cell_type": "code",
   "execution_count": 56,
   "id": "4db59e60",
   "metadata": {},
   "outputs": [
    {
     "data": {
      "image/png": "[encoded data removed]",
      "text/plain": [
       "<Figure size 432x288 with 1 Axes>"
      ]
     },
     "metadata": {
      "needs_background": "light"
     },
     "output_type": "display_data"
    }
   ],
   "source": [
    "plt.title(\"Top 10 countries with the Total Medals\")\n",
    "sns.barplot(x = T.index, y=\"total_medal\", data=T)\n",
    "plt.xticks(rotation=90)\n",
    "plt.show()"
   ]
  },
  {
   "cell_type": "markdown",
   "id": "66a6c5f7",
   "metadata": {},
   "source": [
    "## • Representing top 10 countries having maximum total medals using pie chart\n",
    "\n",
    "For easy visalization and find out contribution of top 10 countries in percentage having sum of three medals i.e. gold, silver and bronze for overall from year 2000 to 2012."
   ]
  },
  {
   "cell_type": "code",
   "execution_count": 63,
   "id": "48cd45f6",
   "metadata": {
    "scrolled": true
   },
   "outputs": [
    {
     "data": {
      "image/png": "[encoded data removed]",
      "text/plain": [
       "<Figure size 432x432 with 1 Axes>"
      ]
     },
     "metadata": {},
     "output_type": "display_data"
    }
   ],
   "source": [
    "my_explode=(0.1,0.1,0.1,0,0,0,0,0,0,0)\n",
    "T.total_medal.plot(kind='pie', autopct='%.0f%%',explode=my_explode, label=\"\",figsize=(6,6),legend=True)\n",
    "plt.legend(title='Country',title_fontsize=12,loc='center left', bbox_to_anchor=(1.2, 0.5))\n",
    "plt.title('Pie-chart showing distribution of total medals of Top 10 Countries')\n",
    "plt.show()"
   ]
  },
  {
   "cell_type": "markdown",
   "id": "4b2b46f5",
   "metadata": {},
   "source": [
    "\n",
    "\n",
    "### Conclusion\n",
    "\n",
    "From the overall exploration of the dataset, we can conclude as follows:\n",
    "\n",
    "**• Missing values and duplicate values didn't affect our exploration and findings, if handled properly.**\n",
    "\n",
    "**• Average age of the athelets participated in the Olympics was 26 year.**\n",
    "\n",
    "**• To perform Sqaure Root transformations, to fix the skewness of age column.**\n",
    "\n",
    "**• Total 49 sports was included for the year 2000-2012**\n",
    "\n",
    "**• United States is having the highest number of the medals, include Gold, Silver, and Bronze.** \n",
    "\n",
    "**• Russia and Germany also showed good overall performance in the Olympics.**\n",
    "\n",
    "***\n",
    "\n",
    "\n",
    "## <center> **Thank You!** </center>\n",
    "\n"
   ]
  }
 ],
 "metadata": {
  "kernelspec": {
   "display_name": "Python 3 (ipykernel)",
   "language": "python",
   "name": "python3"
  },
  "language_info": {
   "codemirror_mode": {
    "name": "ipython",
    "version": 3
   },
   "file_extension": ".py",
   "mimetype": "text/x-python",
   "name": "python",
   "nbconvert_exporter": "python",
   "pygments_lexer": "ipython3",
   "version": "3.9.7"
  }
 },
 "nbformat": 4,
 "nbformat_minor": 5
}
